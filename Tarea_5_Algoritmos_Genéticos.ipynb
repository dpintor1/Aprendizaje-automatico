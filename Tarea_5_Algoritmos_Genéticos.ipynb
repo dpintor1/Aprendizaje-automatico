{
  "nbformat": 4,
  "nbformat_minor": 0,
  "metadata": {
    "colab": {
      "name": "Tarea 5 Algoritmos Genéticos.ipynb",
      "provenance": [],
      "collapsed_sections": [],
      "mount_file_id": "1zE7Ax_fnIOVfeMEV-pWvyJ7oqv-aZ1mJ",
      "authorship_tag": "ABX9TyPq+CrnGyg4EymwWLklws38"
    },
    "kernelspec": {
      "name": "python3",
      "display_name": "Python 3"
    },
    "widgets": {
      "application/vnd.jupyter.widget-state+json": {
        "1a4c48b2b6c74bad9842df853340ff57": {
          "model_module": "@jupyter-widgets/controls",
          "model_name": "HBoxModel",
          "state": {
            "_view_name": "HBoxView",
            "_dom_classes": [],
            "_model_name": "HBoxModel",
            "_view_module": "@jupyter-widgets/controls",
            "_model_module_version": "1.5.0",
            "_view_count": null,
            "_view_module_version": "1.5.0",
            "box_style": "",
            "layout": "IPY_MODEL_7f503cb6f5074a9883081916c82cb4f4",
            "_model_module": "@jupyter-widgets/controls",
            "children": [
              "IPY_MODEL_d717f93fd4c04a648cbc8ecbb3c7c8cb",
              "IPY_MODEL_ec64ee71fe2b4901b4b7f9afca5ee64b"
            ]
          }
        },
        "7f503cb6f5074a9883081916c82cb4f4": {
          "model_module": "@jupyter-widgets/base",
          "model_name": "LayoutModel",
          "state": {
            "_view_name": "LayoutView",
            "grid_template_rows": null,
            "right": null,
            "justify_content": null,
            "_view_module": "@jupyter-widgets/base",
            "overflow": null,
            "_model_module_version": "1.2.0",
            "_view_count": null,
            "flex_flow": null,
            "width": null,
            "min_width": null,
            "border": null,
            "align_items": null,
            "bottom": null,
            "_model_module": "@jupyter-widgets/base",
            "top": null,
            "grid_column": null,
            "overflow_y": null,
            "overflow_x": null,
            "grid_auto_flow": null,
            "grid_area": null,
            "grid_template_columns": null,
            "flex": null,
            "_model_name": "LayoutModel",
            "justify_items": null,
            "grid_row": null,
            "max_height": null,
            "align_content": null,
            "visibility": null,
            "align_self": null,
            "height": null,
            "min_height": null,
            "padding": null,
            "grid_auto_rows": null,
            "grid_gap": null,
            "max_width": null,
            "order": null,
            "_view_module_version": "1.2.0",
            "grid_template_areas": null,
            "object_position": null,
            "object_fit": null,
            "grid_auto_columns": null,
            "margin": null,
            "display": null,
            "left": null
          }
        },
        "d717f93fd4c04a648cbc8ecbb3c7c8cb": {
          "model_module": "@jupyter-widgets/controls",
          "model_name": "FloatProgressModel",
          "state": {
            "_view_name": "ProgressView",
            "style": "IPY_MODEL_43fca7aa8a1a4d6aaa370ed5852b14e6",
            "_dom_classes": [],
            "description": "Optimization Progress: ",
            "_model_name": "FloatProgressModel",
            "bar_style": "",
            "max": 600,
            "_view_module": "@jupyter-widgets/controls",
            "_model_module_version": "1.5.0",
            "value": 600,
            "_view_count": null,
            "_view_module_version": "1.5.0",
            "orientation": "horizontal",
            "min": 0,
            "description_tooltip": null,
            "_model_module": "@jupyter-widgets/controls",
            "layout": "IPY_MODEL_dd40785d254a49afabf04144942e80cd"
          }
        },
        "ec64ee71fe2b4901b4b7f9afca5ee64b": {
          "model_module": "@jupyter-widgets/controls",
          "model_name": "HTMLModel",
          "state": {
            "_view_name": "HTMLView",
            "style": "IPY_MODEL_46d9f63be40e4ccd889b6d525f39b89f",
            "_dom_classes": [],
            "description": "",
            "_model_name": "HTMLModel",
            "placeholder": "​",
            "_view_module": "@jupyter-widgets/controls",
            "_model_module_version": "1.5.0",
            "value": " 602/? [3:01:28&lt;00:00, 34.24s/pipeline]",
            "_view_count": null,
            "_view_module_version": "1.5.0",
            "description_tooltip": null,
            "_model_module": "@jupyter-widgets/controls",
            "layout": "IPY_MODEL_34b5be19816e46c59ee7b3725c4a6e73"
          }
        },
        "43fca7aa8a1a4d6aaa370ed5852b14e6": {
          "model_module": "@jupyter-widgets/controls",
          "model_name": "ProgressStyleModel",
          "state": {
            "_view_name": "StyleView",
            "_model_name": "ProgressStyleModel",
            "description_width": "initial",
            "_view_module": "@jupyter-widgets/base",
            "_model_module_version": "1.5.0",
            "_view_count": null,
            "_view_module_version": "1.2.0",
            "bar_color": null,
            "_model_module": "@jupyter-widgets/controls"
          }
        },
        "dd40785d254a49afabf04144942e80cd": {
          "model_module": "@jupyter-widgets/base",
          "model_name": "LayoutModel",
          "state": {
            "_view_name": "LayoutView",
            "grid_template_rows": null,
            "right": null,
            "justify_content": null,
            "_view_module": "@jupyter-widgets/base",
            "overflow": null,
            "_model_module_version": "1.2.0",
            "_view_count": null,
            "flex_flow": null,
            "width": null,
            "min_width": null,
            "border": null,
            "align_items": null,
            "bottom": null,
            "_model_module": "@jupyter-widgets/base",
            "top": null,
            "grid_column": null,
            "overflow_y": null,
            "overflow_x": null,
            "grid_auto_flow": null,
            "grid_area": null,
            "grid_template_columns": null,
            "flex": null,
            "_model_name": "LayoutModel",
            "justify_items": null,
            "grid_row": null,
            "max_height": null,
            "align_content": null,
            "visibility": null,
            "align_self": null,
            "height": null,
            "min_height": null,
            "padding": null,
            "grid_auto_rows": null,
            "grid_gap": null,
            "max_width": null,
            "order": null,
            "_view_module_version": "1.2.0",
            "grid_template_areas": null,
            "object_position": null,
            "object_fit": null,
            "grid_auto_columns": null,
            "margin": null,
            "display": null,
            "left": null
          }
        },
        "46d9f63be40e4ccd889b6d525f39b89f": {
          "model_module": "@jupyter-widgets/controls",
          "model_name": "DescriptionStyleModel",
          "state": {
            "_view_name": "StyleView",
            "_model_name": "DescriptionStyleModel",
            "description_width": "",
            "_view_module": "@jupyter-widgets/base",
            "_model_module_version": "1.5.0",
            "_view_count": null,
            "_view_module_version": "1.2.0",
            "_model_module": "@jupyter-widgets/controls"
          }
        },
        "34b5be19816e46c59ee7b3725c4a6e73": {
          "model_module": "@jupyter-widgets/base",
          "model_name": "LayoutModel",
          "state": {
            "_view_name": "LayoutView",
            "grid_template_rows": null,
            "right": null,
            "justify_content": null,
            "_view_module": "@jupyter-widgets/base",
            "overflow": null,
            "_model_module_version": "1.2.0",
            "_view_count": null,
            "flex_flow": null,
            "width": null,
            "min_width": null,
            "border": null,
            "align_items": null,
            "bottom": null,
            "_model_module": "@jupyter-widgets/base",
            "top": null,
            "grid_column": null,
            "overflow_y": null,
            "overflow_x": null,
            "grid_auto_flow": null,
            "grid_area": null,
            "grid_template_columns": null,
            "flex": null,
            "_model_name": "LayoutModel",
            "justify_items": null,
            "grid_row": null,
            "max_height": null,
            "align_content": null,
            "visibility": null,
            "align_self": null,
            "height": null,
            "min_height": null,
            "padding": null,
            "grid_auto_rows": null,
            "grid_gap": null,
            "max_width": null,
            "order": null,
            "_view_module_version": "1.2.0",
            "grid_template_areas": null,
            "object_position": null,
            "object_fit": null,
            "grid_auto_columns": null,
            "margin": null,
            "display": null,
            "left": null
          }
        },
        "c3b1e7eb31a44960819d277ef1498a99": {
          "model_module": "@jupyter-widgets/controls",
          "model_name": "HBoxModel",
          "state": {
            "_view_name": "HBoxView",
            "_dom_classes": [],
            "_model_name": "HBoxModel",
            "_view_module": "@jupyter-widgets/controls",
            "_model_module_version": "1.5.0",
            "_view_count": null,
            "_view_module_version": "1.5.0",
            "box_style": "",
            "layout": "IPY_MODEL_bd95086bcde54b93822a28ebdc080d53",
            "_model_module": "@jupyter-widgets/controls",
            "children": [
              "IPY_MODEL_930540de359c49c792af6be7ecc1b8cc",
              "IPY_MODEL_05611d03428b466c99719deb7a53d686"
            ]
          }
        },
        "bd95086bcde54b93822a28ebdc080d53": {
          "model_module": "@jupyter-widgets/base",
          "model_name": "LayoutModel",
          "state": {
            "_view_name": "LayoutView",
            "grid_template_rows": null,
            "right": null,
            "justify_content": null,
            "_view_module": "@jupyter-widgets/base",
            "overflow": null,
            "_model_module_version": "1.2.0",
            "_view_count": null,
            "flex_flow": null,
            "width": null,
            "min_width": null,
            "border": null,
            "align_items": null,
            "bottom": null,
            "_model_module": "@jupyter-widgets/base",
            "top": null,
            "grid_column": null,
            "overflow_y": null,
            "overflow_x": null,
            "grid_auto_flow": null,
            "grid_area": null,
            "grid_template_columns": null,
            "flex": null,
            "_model_name": "LayoutModel",
            "justify_items": null,
            "grid_row": null,
            "max_height": null,
            "align_content": null,
            "visibility": null,
            "align_self": null,
            "height": null,
            "min_height": null,
            "padding": null,
            "grid_auto_rows": null,
            "grid_gap": null,
            "max_width": null,
            "order": null,
            "_view_module_version": "1.2.0",
            "grid_template_areas": null,
            "object_position": null,
            "object_fit": null,
            "grid_auto_columns": null,
            "margin": null,
            "display": null,
            "left": null
          }
        },
        "930540de359c49c792af6be7ecc1b8cc": {
          "model_module": "@jupyter-widgets/controls",
          "model_name": "FloatProgressModel",
          "state": {
            "_view_name": "ProgressView",
            "style": "IPY_MODEL_50c561d943ae41f0ade23e0f01730047",
            "_dom_classes": [],
            "description": "Optimization Progress: ",
            "_model_name": "FloatProgressModel",
            "bar_style": "",
            "max": 15,
            "_view_module": "@jupyter-widgets/controls",
            "_model_module_version": "1.5.0",
            "value": 15,
            "_view_count": null,
            "_view_module_version": "1.5.0",
            "orientation": "horizontal",
            "min": 0,
            "description_tooltip": null,
            "_model_module": "@jupyter-widgets/controls",
            "layout": "IPY_MODEL_28419e0c1c8b4b0484bfd7bb4c90de3f"
          }
        },
        "05611d03428b466c99719deb7a53d686": {
          "model_module": "@jupyter-widgets/controls",
          "model_name": "HTMLModel",
          "state": {
            "_view_name": "HTMLView",
            "style": "IPY_MODEL_13dd04a9613f4953bc651e0e7af54281",
            "_dom_classes": [],
            "description": "",
            "_model_name": "HTMLModel",
            "placeholder": "​",
            "_view_module": "@jupyter-widgets/controls",
            "_model_module_version": "1.5.0",
            "value": " 124/? [02:01&lt;00:00,  1.00pipeline/s]",
            "_view_count": null,
            "_view_module_version": "1.5.0",
            "description_tooltip": null,
            "_model_module": "@jupyter-widgets/controls",
            "layout": "IPY_MODEL_ff6390e7bed44914acbb9420421e58a2"
          }
        },
        "50c561d943ae41f0ade23e0f01730047": {
          "model_module": "@jupyter-widgets/controls",
          "model_name": "ProgressStyleModel",
          "state": {
            "_view_name": "StyleView",
            "_model_name": "ProgressStyleModel",
            "description_width": "initial",
            "_view_module": "@jupyter-widgets/base",
            "_model_module_version": "1.5.0",
            "_view_count": null,
            "_view_module_version": "1.2.0",
            "bar_color": null,
            "_model_module": "@jupyter-widgets/controls"
          }
        },
        "28419e0c1c8b4b0484bfd7bb4c90de3f": {
          "model_module": "@jupyter-widgets/base",
          "model_name": "LayoutModel",
          "state": {
            "_view_name": "LayoutView",
            "grid_template_rows": null,
            "right": null,
            "justify_content": null,
            "_view_module": "@jupyter-widgets/base",
            "overflow": null,
            "_model_module_version": "1.2.0",
            "_view_count": null,
            "flex_flow": null,
            "width": null,
            "min_width": null,
            "border": null,
            "align_items": null,
            "bottom": null,
            "_model_module": "@jupyter-widgets/base",
            "top": null,
            "grid_column": null,
            "overflow_y": null,
            "overflow_x": null,
            "grid_auto_flow": null,
            "grid_area": null,
            "grid_template_columns": null,
            "flex": null,
            "_model_name": "LayoutModel",
            "justify_items": null,
            "grid_row": null,
            "max_height": null,
            "align_content": null,
            "visibility": null,
            "align_self": null,
            "height": null,
            "min_height": null,
            "padding": null,
            "grid_auto_rows": null,
            "grid_gap": null,
            "max_width": null,
            "order": null,
            "_view_module_version": "1.2.0",
            "grid_template_areas": null,
            "object_position": null,
            "object_fit": null,
            "grid_auto_columns": null,
            "margin": null,
            "display": null,
            "left": null
          }
        },
        "13dd04a9613f4953bc651e0e7af54281": {
          "model_module": "@jupyter-widgets/controls",
          "model_name": "DescriptionStyleModel",
          "state": {
            "_view_name": "StyleView",
            "_model_name": "DescriptionStyleModel",
            "description_width": "",
            "_view_module": "@jupyter-widgets/base",
            "_model_module_version": "1.5.0",
            "_view_count": null,
            "_view_module_version": "1.2.0",
            "_model_module": "@jupyter-widgets/controls"
          }
        },
        "ff6390e7bed44914acbb9420421e58a2": {
          "model_module": "@jupyter-widgets/base",
          "model_name": "LayoutModel",
          "state": {
            "_view_name": "LayoutView",
            "grid_template_rows": null,
            "right": null,
            "justify_content": null,
            "_view_module": "@jupyter-widgets/base",
            "overflow": null,
            "_model_module_version": "1.2.0",
            "_view_count": null,
            "flex_flow": null,
            "width": null,
            "min_width": null,
            "border": null,
            "align_items": null,
            "bottom": null,
            "_model_module": "@jupyter-widgets/base",
            "top": null,
            "grid_column": null,
            "overflow_y": null,
            "overflow_x": null,
            "grid_auto_flow": null,
            "grid_area": null,
            "grid_template_columns": null,
            "flex": null,
            "_model_name": "LayoutModel",
            "justify_items": null,
            "grid_row": null,
            "max_height": null,
            "align_content": null,
            "visibility": null,
            "align_self": null,
            "height": null,
            "min_height": null,
            "padding": null,
            "grid_auto_rows": null,
            "grid_gap": null,
            "max_width": null,
            "order": null,
            "_view_module_version": "1.2.0",
            "grid_template_areas": null,
            "object_position": null,
            "object_fit": null,
            "grid_auto_columns": null,
            "margin": null,
            "display": null,
            "left": null
          }
        },
        "17e01c3b56774e1187a03e35ee6d66f5": {
          "model_module": "@jupyter-widgets/controls",
          "model_name": "HBoxModel",
          "state": {
            "_view_name": "HBoxView",
            "_dom_classes": [],
            "_model_name": "HBoxModel",
            "_view_module": "@jupyter-widgets/controls",
            "_model_module_version": "1.5.0",
            "_view_count": null,
            "_view_module_version": "1.5.0",
            "box_style": "",
            "layout": "IPY_MODEL_41d9c99e83834df5ab073095f0034ee3",
            "_model_module": "@jupyter-widgets/controls",
            "children": [
              "IPY_MODEL_cc84949d7b0f431cbd505e02f2dbbcee",
              "IPY_MODEL_49d3985b024f45f2b520e9a273681654"
            ]
          }
        },
        "41d9c99e83834df5ab073095f0034ee3": {
          "model_module": "@jupyter-widgets/base",
          "model_name": "LayoutModel",
          "state": {
            "_view_name": "LayoutView",
            "grid_template_rows": null,
            "right": null,
            "justify_content": null,
            "_view_module": "@jupyter-widgets/base",
            "overflow": null,
            "_model_module_version": "1.2.0",
            "_view_count": null,
            "flex_flow": null,
            "width": null,
            "min_width": null,
            "border": null,
            "align_items": null,
            "bottom": null,
            "_model_module": "@jupyter-widgets/base",
            "top": null,
            "grid_column": null,
            "overflow_y": null,
            "overflow_x": null,
            "grid_auto_flow": null,
            "grid_area": null,
            "grid_template_columns": null,
            "flex": null,
            "_model_name": "LayoutModel",
            "justify_items": null,
            "grid_row": null,
            "max_height": null,
            "align_content": null,
            "visibility": null,
            "align_self": null,
            "height": null,
            "min_height": null,
            "padding": null,
            "grid_auto_rows": null,
            "grid_gap": null,
            "max_width": null,
            "order": null,
            "_view_module_version": "1.2.0",
            "grid_template_areas": null,
            "object_position": null,
            "object_fit": null,
            "grid_auto_columns": null,
            "margin": null,
            "display": null,
            "left": null
          }
        },
        "cc84949d7b0f431cbd505e02f2dbbcee": {
          "model_module": "@jupyter-widgets/controls",
          "model_name": "FloatProgressModel",
          "state": {
            "_view_name": "ProgressView",
            "style": "IPY_MODEL_99f3528b67144d199c4172ee9ab0c2cf",
            "_dom_classes": [],
            "description": "Optimization Progress: ",
            "_model_name": "FloatProgressModel",
            "bar_style": "",
            "max": 20,
            "_view_module": "@jupyter-widgets/controls",
            "_model_module_version": "1.5.0",
            "value": 20,
            "_view_count": null,
            "_view_module_version": "1.5.0",
            "orientation": "horizontal",
            "min": 0,
            "description_tooltip": null,
            "_model_module": "@jupyter-widgets/controls",
            "layout": "IPY_MODEL_34891edc098942ae97a367404fb8faba"
          }
        },
        "49d3985b024f45f2b520e9a273681654": {
          "model_module": "@jupyter-widgets/controls",
          "model_name": "HTMLModel",
          "state": {
            "_view_name": "HTMLView",
            "style": "IPY_MODEL_7936cf5c463a41abb3a1952106c663a1",
            "_dom_classes": [],
            "description": "",
            "_model_name": "HTMLModel",
            "placeholder": "​",
            "_view_module": "@jupyter-widgets/controls",
            "_model_module_version": "1.5.0",
            "value": " 113/? [09:59&lt;00:00, 13.61s/pipeline]",
            "_view_count": null,
            "_view_module_version": "1.5.0",
            "description_tooltip": null,
            "_model_module": "@jupyter-widgets/controls",
            "layout": "IPY_MODEL_71055ca032664f00922941ba34990562"
          }
        },
        "99f3528b67144d199c4172ee9ab0c2cf": {
          "model_module": "@jupyter-widgets/controls",
          "model_name": "ProgressStyleModel",
          "state": {
            "_view_name": "StyleView",
            "_model_name": "ProgressStyleModel",
            "description_width": "initial",
            "_view_module": "@jupyter-widgets/base",
            "_model_module_version": "1.5.0",
            "_view_count": null,
            "_view_module_version": "1.2.0",
            "bar_color": null,
            "_model_module": "@jupyter-widgets/controls"
          }
        },
        "34891edc098942ae97a367404fb8faba": {
          "model_module": "@jupyter-widgets/base",
          "model_name": "LayoutModel",
          "state": {
            "_view_name": "LayoutView",
            "grid_template_rows": null,
            "right": null,
            "justify_content": null,
            "_view_module": "@jupyter-widgets/base",
            "overflow": null,
            "_model_module_version": "1.2.0",
            "_view_count": null,
            "flex_flow": null,
            "width": null,
            "min_width": null,
            "border": null,
            "align_items": null,
            "bottom": null,
            "_model_module": "@jupyter-widgets/base",
            "top": null,
            "grid_column": null,
            "overflow_y": null,
            "overflow_x": null,
            "grid_auto_flow": null,
            "grid_area": null,
            "grid_template_columns": null,
            "flex": null,
            "_model_name": "LayoutModel",
            "justify_items": null,
            "grid_row": null,
            "max_height": null,
            "align_content": null,
            "visibility": null,
            "align_self": null,
            "height": null,
            "min_height": null,
            "padding": null,
            "grid_auto_rows": null,
            "grid_gap": null,
            "max_width": null,
            "order": null,
            "_view_module_version": "1.2.0",
            "grid_template_areas": null,
            "object_position": null,
            "object_fit": null,
            "grid_auto_columns": null,
            "margin": null,
            "display": null,
            "left": null
          }
        },
        "7936cf5c463a41abb3a1952106c663a1": {
          "model_module": "@jupyter-widgets/controls",
          "model_name": "DescriptionStyleModel",
          "state": {
            "_view_name": "StyleView",
            "_model_name": "DescriptionStyleModel",
            "description_width": "",
            "_view_module": "@jupyter-widgets/base",
            "_model_module_version": "1.5.0",
            "_view_count": null,
            "_view_module_version": "1.2.0",
            "_model_module": "@jupyter-widgets/controls"
          }
        },
        "71055ca032664f00922941ba34990562": {
          "model_module": "@jupyter-widgets/base",
          "model_name": "LayoutModel",
          "state": {
            "_view_name": "LayoutView",
            "grid_template_rows": null,
            "right": null,
            "justify_content": null,
            "_view_module": "@jupyter-widgets/base",
            "overflow": null,
            "_model_module_version": "1.2.0",
            "_view_count": null,
            "flex_flow": null,
            "width": null,
            "min_width": null,
            "border": null,
            "align_items": null,
            "bottom": null,
            "_model_module": "@jupyter-widgets/base",
            "top": null,
            "grid_column": null,
            "overflow_y": null,
            "overflow_x": null,
            "grid_auto_flow": null,
            "grid_area": null,
            "grid_template_columns": null,
            "flex": null,
            "_model_name": "LayoutModel",
            "justify_items": null,
            "grid_row": null,
            "max_height": null,
            "align_content": null,
            "visibility": null,
            "align_self": null,
            "height": null,
            "min_height": null,
            "padding": null,
            "grid_auto_rows": null,
            "grid_gap": null,
            "max_width": null,
            "order": null,
            "_view_module_version": "1.2.0",
            "grid_template_areas": null,
            "object_position": null,
            "object_fit": null,
            "grid_auto_columns": null,
            "margin": null,
            "display": null,
            "left": null
          }
        },
        "b9e974370d9343b8b08e793cd458da98": {
          "model_module": "@jupyter-widgets/controls",
          "model_name": "HBoxModel",
          "state": {
            "_view_name": "HBoxView",
            "_dom_classes": [],
            "_model_name": "HBoxModel",
            "_view_module": "@jupyter-widgets/controls",
            "_model_module_version": "1.5.0",
            "_view_count": null,
            "_view_module_version": "1.5.0",
            "box_style": "",
            "layout": "IPY_MODEL_5d83feeb51504226ad033c927c8cec49",
            "_model_module": "@jupyter-widgets/controls",
            "children": [
              "IPY_MODEL_a3856c6df8574a54966d22c64752f47c",
              "IPY_MODEL_1e9d943b8df6428ab64eadbcce4bc0ef"
            ]
          }
        },
        "5d83feeb51504226ad033c927c8cec49": {
          "model_module": "@jupyter-widgets/base",
          "model_name": "LayoutModel",
          "state": {
            "_view_name": "LayoutView",
            "grid_template_rows": null,
            "right": null,
            "justify_content": null,
            "_view_module": "@jupyter-widgets/base",
            "overflow": null,
            "_model_module_version": "1.2.0",
            "_view_count": null,
            "flex_flow": null,
            "width": null,
            "min_width": null,
            "border": null,
            "align_items": null,
            "bottom": null,
            "_model_module": "@jupyter-widgets/base",
            "top": null,
            "grid_column": null,
            "overflow_y": null,
            "overflow_x": null,
            "grid_auto_flow": null,
            "grid_area": null,
            "grid_template_columns": null,
            "flex": null,
            "_model_name": "LayoutModel",
            "justify_items": null,
            "grid_row": null,
            "max_height": null,
            "align_content": null,
            "visibility": null,
            "align_self": null,
            "height": null,
            "min_height": null,
            "padding": null,
            "grid_auto_rows": null,
            "grid_gap": null,
            "max_width": null,
            "order": null,
            "_view_module_version": "1.2.0",
            "grid_template_areas": null,
            "object_position": null,
            "object_fit": null,
            "grid_auto_columns": null,
            "margin": null,
            "display": null,
            "left": null
          }
        },
        "a3856c6df8574a54966d22c64752f47c": {
          "model_module": "@jupyter-widgets/controls",
          "model_name": "FloatProgressModel",
          "state": {
            "_view_name": "ProgressView",
            "style": "IPY_MODEL_64a32514f88e4cc686e3df629063212f",
            "_dom_classes": [],
            "description": "Optimization Progress:  53%",
            "_model_name": "FloatProgressModel",
            "bar_style": "",
            "max": 600,
            "_view_module": "@jupyter-widgets/controls",
            "_model_module_version": "1.5.0",
            "value": 316,
            "_view_count": null,
            "_view_module_version": "1.5.0",
            "orientation": "horizontal",
            "min": 0,
            "description_tooltip": null,
            "_model_module": "@jupyter-widgets/controls",
            "layout": "IPY_MODEL_77f3ecf84a934557b329033fbca60639"
          }
        },
        "1e9d943b8df6428ab64eadbcce4bc0ef": {
          "model_module": "@jupyter-widgets/controls",
          "model_name": "HTMLModel",
          "state": {
            "_view_name": "HTMLView",
            "style": "IPY_MODEL_87240eebe2fc410db3c7a364ea2efdfe",
            "_dom_classes": [],
            "description": "",
            "_model_name": "HTMLModel",
            "placeholder": "​",
            "_view_module": "@jupyter-widgets/controls",
            "_model_module_version": "1.5.0",
            "value": " 316/600 [6:56:57&lt;7:39:43, 97.12s/pipeline]",
            "_view_count": null,
            "_view_module_version": "1.5.0",
            "description_tooltip": null,
            "_model_module": "@jupyter-widgets/controls",
            "layout": "IPY_MODEL_3fd3095b677448c4a1036479a252e04e"
          }
        },
        "64a32514f88e4cc686e3df629063212f": {
          "model_module": "@jupyter-widgets/controls",
          "model_name": "ProgressStyleModel",
          "state": {
            "_view_name": "StyleView",
            "_model_name": "ProgressStyleModel",
            "description_width": "initial",
            "_view_module": "@jupyter-widgets/base",
            "_model_module_version": "1.5.0",
            "_view_count": null,
            "_view_module_version": "1.2.0",
            "bar_color": null,
            "_model_module": "@jupyter-widgets/controls"
          }
        },
        "77f3ecf84a934557b329033fbca60639": {
          "model_module": "@jupyter-widgets/base",
          "model_name": "LayoutModel",
          "state": {
            "_view_name": "LayoutView",
            "grid_template_rows": null,
            "right": null,
            "justify_content": null,
            "_view_module": "@jupyter-widgets/base",
            "overflow": null,
            "_model_module_version": "1.2.0",
            "_view_count": null,
            "flex_flow": null,
            "width": null,
            "min_width": null,
            "border": null,
            "align_items": null,
            "bottom": null,
            "_model_module": "@jupyter-widgets/base",
            "top": null,
            "grid_column": null,
            "overflow_y": null,
            "overflow_x": null,
            "grid_auto_flow": null,
            "grid_area": null,
            "grid_template_columns": null,
            "flex": null,
            "_model_name": "LayoutModel",
            "justify_items": null,
            "grid_row": null,
            "max_height": null,
            "align_content": null,
            "visibility": null,
            "align_self": null,
            "height": null,
            "min_height": null,
            "padding": null,
            "grid_auto_rows": null,
            "grid_gap": null,
            "max_width": null,
            "order": null,
            "_view_module_version": "1.2.0",
            "grid_template_areas": null,
            "object_position": null,
            "object_fit": null,
            "grid_auto_columns": null,
            "margin": null,
            "display": null,
            "left": null
          }
        },
        "87240eebe2fc410db3c7a364ea2efdfe": {
          "model_module": "@jupyter-widgets/controls",
          "model_name": "DescriptionStyleModel",
          "state": {
            "_view_name": "StyleView",
            "_model_name": "DescriptionStyleModel",
            "description_width": "",
            "_view_module": "@jupyter-widgets/base",
            "_model_module_version": "1.5.0",
            "_view_count": null,
            "_view_module_version": "1.2.0",
            "_model_module": "@jupyter-widgets/controls"
          }
        },
        "3fd3095b677448c4a1036479a252e04e": {
          "model_module": "@jupyter-widgets/base",
          "model_name": "LayoutModel",
          "state": {
            "_view_name": "LayoutView",
            "grid_template_rows": null,
            "right": null,
            "justify_content": null,
            "_view_module": "@jupyter-widgets/base",
            "overflow": null,
            "_model_module_version": "1.2.0",
            "_view_count": null,
            "flex_flow": null,
            "width": null,
            "min_width": null,
            "border": null,
            "align_items": null,
            "bottom": null,
            "_model_module": "@jupyter-widgets/base",
            "top": null,
            "grid_column": null,
            "overflow_y": null,
            "overflow_x": null,
            "grid_auto_flow": null,
            "grid_area": null,
            "grid_template_columns": null,
            "flex": null,
            "_model_name": "LayoutModel",
            "justify_items": null,
            "grid_row": null,
            "max_height": null,
            "align_content": null,
            "visibility": null,
            "align_self": null,
            "height": null,
            "min_height": null,
            "padding": null,
            "grid_auto_rows": null,
            "grid_gap": null,
            "max_width": null,
            "order": null,
            "_view_module_version": "1.2.0",
            "grid_template_areas": null,
            "object_position": null,
            "object_fit": null,
            "grid_auto_columns": null,
            "margin": null,
            "display": null,
            "left": null
          }
        },
        "a9ad186782c048f5b42ada2c89d2d939": {
          "model_module": "@jupyter-widgets/controls",
          "model_name": "HBoxModel",
          "state": {
            "_view_name": "HBoxView",
            "_dom_classes": [],
            "_model_name": "HBoxModel",
            "_view_module": "@jupyter-widgets/controls",
            "_model_module_version": "1.5.0",
            "_view_count": null,
            "_view_module_version": "1.5.0",
            "box_style": "",
            "layout": "IPY_MODEL_ca03d997be3b47ae9e3e2f2a5a553661",
            "_model_module": "@jupyter-widgets/controls",
            "children": [
              "IPY_MODEL_3297dd2406824ccb821b96b38dd8710e",
              "IPY_MODEL_b70fcda8e7a240d3adceb7d4125bdda4"
            ]
          }
        },
        "ca03d997be3b47ae9e3e2f2a5a553661": {
          "model_module": "@jupyter-widgets/base",
          "model_name": "LayoutModel",
          "state": {
            "_view_name": "LayoutView",
            "grid_template_rows": null,
            "right": null,
            "justify_content": null,
            "_view_module": "@jupyter-widgets/base",
            "overflow": null,
            "_model_module_version": "1.2.0",
            "_view_count": null,
            "flex_flow": null,
            "width": null,
            "min_width": null,
            "border": null,
            "align_items": null,
            "bottom": null,
            "_model_module": "@jupyter-widgets/base",
            "top": null,
            "grid_column": null,
            "overflow_y": null,
            "overflow_x": null,
            "grid_auto_flow": null,
            "grid_area": null,
            "grid_template_columns": null,
            "flex": null,
            "_model_name": "LayoutModel",
            "justify_items": null,
            "grid_row": null,
            "max_height": null,
            "align_content": null,
            "visibility": null,
            "align_self": null,
            "height": null,
            "min_height": null,
            "padding": null,
            "grid_auto_rows": null,
            "grid_gap": null,
            "max_width": null,
            "order": null,
            "_view_module_version": "1.2.0",
            "grid_template_areas": null,
            "object_position": null,
            "object_fit": null,
            "grid_auto_columns": null,
            "margin": null,
            "display": null,
            "left": null
          }
        },
        "3297dd2406824ccb821b96b38dd8710e": {
          "model_module": "@jupyter-widgets/controls",
          "model_name": "FloatProgressModel",
          "state": {
            "_view_name": "ProgressView",
            "style": "IPY_MODEL_1af5318359064836a04e2429ae6cadf7",
            "_dom_classes": [],
            "description": "Optimization Progress: ",
            "_model_name": "FloatProgressModel",
            "bar_style": "",
            "max": 40,
            "_view_module": "@jupyter-widgets/controls",
            "_model_module_version": "1.5.0",
            "value": 40,
            "_view_count": null,
            "_view_module_version": "1.5.0",
            "orientation": "horizontal",
            "min": 0,
            "description_tooltip": null,
            "_model_module": "@jupyter-widgets/controls",
            "layout": "IPY_MODEL_dd04c7f811934b98a3f0919c72408f87"
          }
        },
        "b70fcda8e7a240d3adceb7d4125bdda4": {
          "model_module": "@jupyter-widgets/controls",
          "model_name": "HTMLModel",
          "state": {
            "_view_name": "HTMLView",
            "style": "IPY_MODEL_e1f707c6d5e249c68e388ef9c0473b70",
            "_dom_classes": [],
            "description": "",
            "_model_name": "HTMLModel",
            "placeholder": "​",
            "_view_module": "@jupyter-widgets/controls",
            "_model_module_version": "1.5.0",
            "value": " 614/? [1:01:09&lt;00:00, 80.99s/pipeline]",
            "_view_count": null,
            "_view_module_version": "1.5.0",
            "description_tooltip": null,
            "_model_module": "@jupyter-widgets/controls",
            "layout": "IPY_MODEL_4d63d9ed1b204035ab2e286826b29400"
          }
        },
        "1af5318359064836a04e2429ae6cadf7": {
          "model_module": "@jupyter-widgets/controls",
          "model_name": "ProgressStyleModel",
          "state": {
            "_view_name": "StyleView",
            "_model_name": "ProgressStyleModel",
            "description_width": "initial",
            "_view_module": "@jupyter-widgets/base",
            "_model_module_version": "1.5.0",
            "_view_count": null,
            "_view_module_version": "1.2.0",
            "bar_color": null,
            "_model_module": "@jupyter-widgets/controls"
          }
        },
        "dd04c7f811934b98a3f0919c72408f87": {
          "model_module": "@jupyter-widgets/base",
          "model_name": "LayoutModel",
          "state": {
            "_view_name": "LayoutView",
            "grid_template_rows": null,
            "right": null,
            "justify_content": null,
            "_view_module": "@jupyter-widgets/base",
            "overflow": null,
            "_model_module_version": "1.2.0",
            "_view_count": null,
            "flex_flow": null,
            "width": null,
            "min_width": null,
            "border": null,
            "align_items": null,
            "bottom": null,
            "_model_module": "@jupyter-widgets/base",
            "top": null,
            "grid_column": null,
            "overflow_y": null,
            "overflow_x": null,
            "grid_auto_flow": null,
            "grid_area": null,
            "grid_template_columns": null,
            "flex": null,
            "_model_name": "LayoutModel",
            "justify_items": null,
            "grid_row": null,
            "max_height": null,
            "align_content": null,
            "visibility": null,
            "align_self": null,
            "height": null,
            "min_height": null,
            "padding": null,
            "grid_auto_rows": null,
            "grid_gap": null,
            "max_width": null,
            "order": null,
            "_view_module_version": "1.2.0",
            "grid_template_areas": null,
            "object_position": null,
            "object_fit": null,
            "grid_auto_columns": null,
            "margin": null,
            "display": null,
            "left": null
          }
        },
        "e1f707c6d5e249c68e388ef9c0473b70": {
          "model_module": "@jupyter-widgets/controls",
          "model_name": "DescriptionStyleModel",
          "state": {
            "_view_name": "StyleView",
            "_model_name": "DescriptionStyleModel",
            "description_width": "",
            "_view_module": "@jupyter-widgets/base",
            "_model_module_version": "1.5.0",
            "_view_count": null,
            "_view_module_version": "1.2.0",
            "_model_module": "@jupyter-widgets/controls"
          }
        },
        "4d63d9ed1b204035ab2e286826b29400": {
          "model_module": "@jupyter-widgets/base",
          "model_name": "LayoutModel",
          "state": {
            "_view_name": "LayoutView",
            "grid_template_rows": null,
            "right": null,
            "justify_content": null,
            "_view_module": "@jupyter-widgets/base",
            "overflow": null,
            "_model_module_version": "1.2.0",
            "_view_count": null,
            "flex_flow": null,
            "width": null,
            "min_width": null,
            "border": null,
            "align_items": null,
            "bottom": null,
            "_model_module": "@jupyter-widgets/base",
            "top": null,
            "grid_column": null,
            "overflow_y": null,
            "overflow_x": null,
            "grid_auto_flow": null,
            "grid_area": null,
            "grid_template_columns": null,
            "flex": null,
            "_model_name": "LayoutModel",
            "justify_items": null,
            "grid_row": null,
            "max_height": null,
            "align_content": null,
            "visibility": null,
            "align_self": null,
            "height": null,
            "min_height": null,
            "padding": null,
            "grid_auto_rows": null,
            "grid_gap": null,
            "max_width": null,
            "order": null,
            "_view_module_version": "1.2.0",
            "grid_template_areas": null,
            "object_position": null,
            "object_fit": null,
            "grid_auto_columns": null,
            "margin": null,
            "display": null,
            "left": null
          }
        }
      }
    }
  },
  "cells": [
    {
      "cell_type": "markdown",
      "metadata": {
        "id": "81hpZgZJjsgg",
        "colab_type": "text"
      },
      "source": [
        "# Algoritmos Genéticos\n",
        "\n",
        "\n",
        "*   Carlos Cerro\n",
        "*   Daniel Pinto\n"
      ]
    },
    {
      "cell_type": "markdown",
      "metadata": {
        "id": "9-77zlp7vHry",
        "colab_type": "text"
      },
      "source": [
        "## 1. Objetivo de la Iteración\n",
        "En la presente iteración se pretende mostrar el uso que tienen los algoritmos genéticos para automatizar los procedimientos de aprendizaje automático. Utilizaremos datos de [MAGIC GAMMA Telescope Dataset](https://archive.ics.uci.edu/ml/datasets/MAGIC+Gamma+Telescope) y aplicaremos un algoritmo genético que nos ayude a seleccionar cuales son las características y el mejor modelo a utilizar para resolver el problema en cuestión. La solución sigue de la siguiente manera: Primero damos un contexto del problema, luego desarrollamos el modelo y por último analizamos los resultados."
      ]
    },
    {
      "cell_type": "markdown",
      "metadata": {
        "id": "qyqa6oSOtsxY",
        "colab_type": "text"
      },
      "source": [
        "## 2.Contexto del problema\n",
        "Actualmente para poder realizar algoritmos de aprendizaje automático se requiere mucho trabajo previo, dentro de esto se encuentra la ingeniería de características, elección y validación del modelo, etc. Y al final el reto se centra en elegir la mejor combinación de técnicas que permitan minimizar el error de las predicciones. Debido a esto se está trabajando bastante en el denominado \"Auto-ML\" , con el objetivo de reducir la complejidad de los algoritmos de aprendizaje automático.\n",
        "\n",
        "En este caso en particular nos centraremos en el data set mencionado anteriormente, para dar un breve resumen los datos son genreados para simular el registro de partículas gamma de alta energía en un telescopio gamma Cherenkov atmosférico terrestre utilizando la técnica de imagen. La meta es clasificar una particula como gamma, que se la señal deseada, o como hadron, que es el ruido, basados en los atributos provistos en los datos.\n",
        "\n",
        "Como se puede observar, nos enfrentamos a un problema de clasificación, de la ayuda de los algoritmos genéticos eligiremos cual es el modelo con mejor desmpeño y que tratamiento se le deben dar a los datos para obtener una mayor precisión en los resultados."
      ]
    },
    {
      "cell_type": "markdown",
      "metadata": {
        "id": "yAsITL_p3RL1",
        "colab_type": "text"
      },
      "source": [
        "![TPOT](https://drive.google.com/uc?id=1OR1YdAdpEYLxL_JDtnPOzkJmE6eYjWmW)"
      ]
    },
    {
      "cell_type": "markdown",
      "metadata": {
        "id": "5fTkiBXjXk0o",
        "colab_type": "text"
      },
      "source": [
        "Primero observaremos nuestros datos"
      ]
    },
    {
      "cell_type": "code",
      "metadata": {
        "id": "v38YoUwdXnVA",
        "colab_type": "code",
        "colab": {}
      },
      "source": [
        "#Importar las librerías\n",
        "import numpy as np\n",
        "import pandas as pd"
      ],
      "execution_count": 0,
      "outputs": []
    },
    {
      "cell_type": "code",
      "metadata": {
        "id": "Qu-Hku8GXulM",
        "colab_type": "code",
        "colab": {}
      },
      "source": [
        "datos_telescopio = pd.read_csv('https://archive.ics.uci.edu/ml/machine-learning-databases/magic/magic04.data', header = None)"
      ],
      "execution_count": 0,
      "outputs": []
    },
    {
      "cell_type": "code",
      "metadata": {
        "id": "uq8344vEX9Fe",
        "colab_type": "code",
        "outputId": "71d349d9-6c95-4c7c-a377-0d2ebd48ddef",
        "colab": {
          "base_uri": "https://localhost:8080/",
          "height": 204
        }
      },
      "source": [
        "datos_telescopio.head()"
      ],
      "execution_count": 0,
      "outputs": [
        {
          "output_type": "execute_result",
          "data": {
            "text/html": [
              "<div>\n",
              "<style scoped>\n",
              "    .dataframe tbody tr th:only-of-type {\n",
              "        vertical-align: middle;\n",
              "    }\n",
              "\n",
              "    .dataframe tbody tr th {\n",
              "        vertical-align: top;\n",
              "    }\n",
              "\n",
              "    .dataframe thead th {\n",
              "        text-align: right;\n",
              "    }\n",
              "</style>\n",
              "<table border=\"1\" class=\"dataframe\">\n",
              "  <thead>\n",
              "    <tr style=\"text-align: right;\">\n",
              "      <th></th>\n",
              "      <th>0</th>\n",
              "      <th>1</th>\n",
              "      <th>2</th>\n",
              "      <th>3</th>\n",
              "      <th>4</th>\n",
              "      <th>5</th>\n",
              "      <th>6</th>\n",
              "      <th>7</th>\n",
              "      <th>8</th>\n",
              "      <th>9</th>\n",
              "      <th>10</th>\n",
              "    </tr>\n",
              "  </thead>\n",
              "  <tbody>\n",
              "    <tr>\n",
              "      <th>0</th>\n",
              "      <td>28.7967</td>\n",
              "      <td>16.0021</td>\n",
              "      <td>2.6449</td>\n",
              "      <td>0.3918</td>\n",
              "      <td>0.1982</td>\n",
              "      <td>27.7004</td>\n",
              "      <td>22.0110</td>\n",
              "      <td>-8.2027</td>\n",
              "      <td>40.0920</td>\n",
              "      <td>81.8828</td>\n",
              "      <td>g</td>\n",
              "    </tr>\n",
              "    <tr>\n",
              "      <th>1</th>\n",
              "      <td>31.6036</td>\n",
              "      <td>11.7235</td>\n",
              "      <td>2.5185</td>\n",
              "      <td>0.5303</td>\n",
              "      <td>0.3773</td>\n",
              "      <td>26.2722</td>\n",
              "      <td>23.8238</td>\n",
              "      <td>-9.9574</td>\n",
              "      <td>6.3609</td>\n",
              "      <td>205.2610</td>\n",
              "      <td>g</td>\n",
              "    </tr>\n",
              "    <tr>\n",
              "      <th>2</th>\n",
              "      <td>162.0520</td>\n",
              "      <td>136.0310</td>\n",
              "      <td>4.0612</td>\n",
              "      <td>0.0374</td>\n",
              "      <td>0.0187</td>\n",
              "      <td>116.7410</td>\n",
              "      <td>-64.8580</td>\n",
              "      <td>-45.2160</td>\n",
              "      <td>76.9600</td>\n",
              "      <td>256.7880</td>\n",
              "      <td>g</td>\n",
              "    </tr>\n",
              "    <tr>\n",
              "      <th>3</th>\n",
              "      <td>23.8172</td>\n",
              "      <td>9.5728</td>\n",
              "      <td>2.3385</td>\n",
              "      <td>0.6147</td>\n",
              "      <td>0.3922</td>\n",
              "      <td>27.2107</td>\n",
              "      <td>-6.4633</td>\n",
              "      <td>-7.1513</td>\n",
              "      <td>10.4490</td>\n",
              "      <td>116.7370</td>\n",
              "      <td>g</td>\n",
              "    </tr>\n",
              "    <tr>\n",
              "      <th>4</th>\n",
              "      <td>75.1362</td>\n",
              "      <td>30.9205</td>\n",
              "      <td>3.1611</td>\n",
              "      <td>0.3168</td>\n",
              "      <td>0.1832</td>\n",
              "      <td>-5.5277</td>\n",
              "      <td>28.5525</td>\n",
              "      <td>21.8393</td>\n",
              "      <td>4.6480</td>\n",
              "      <td>356.4620</td>\n",
              "      <td>g</td>\n",
              "    </tr>\n",
              "  </tbody>\n",
              "</table>\n",
              "</div>"
            ],
            "text/plain": [
              "         0         1       2       3   ...       7        8         9   10\n",
              "0   28.7967   16.0021  2.6449  0.3918  ...  -8.2027  40.0920   81.8828   g\n",
              "1   31.6036   11.7235  2.5185  0.5303  ...  -9.9574   6.3609  205.2610   g\n",
              "2  162.0520  136.0310  4.0612  0.0374  ... -45.2160  76.9600  256.7880   g\n",
              "3   23.8172    9.5728  2.3385  0.6147  ...  -7.1513  10.4490  116.7370   g\n",
              "4   75.1362   30.9205  3.1611  0.3168  ...  21.8393   4.6480  356.4620   g\n",
              "\n",
              "[5 rows x 11 columns]"
            ]
          },
          "metadata": {
            "tags": []
          },
          "execution_count": 4
        }
      ]
    },
    {
      "cell_type": "code",
      "metadata": {
        "id": "p0By8t58YBUF",
        "colab_type": "code",
        "outputId": "1a001a9a-8a57-4862-d648-068c536af0eb",
        "colab": {
          "base_uri": "https://localhost:8080/",
          "height": 54
        }
      },
      "source": [
        "datos_telescopio.describe().to_latex(float_format=\"%.2f\", bold_rows = True, )"
      ],
      "execution_count": 0,
      "outputs": [
        {
          "output_type": "execute_result",
          "data": {
            "text/plain": [
              "'\\\\begin{tabular}{lrrrrrrrrrr}\\n\\\\toprule\\n{} &  fLength &   fWidth &    fSize &    fConc &   fConcl &    fAsym &  fM3Long &  fM3Trans &   fAlpha &    fDist \\\\\\\\\\n\\\\midrule\\n\\\\textbf{count} & 19020.00 & 19020.00 & 19020.00 & 19020.00 & 19020.00 & 19020.00 & 19020.00 &  19020.00 & 19020.00 & 19020.00 \\\\\\\\\\n\\\\textbf{mean } &    53.25 &    22.18 &     2.83 &     0.38 &     0.21 &    -4.33 &    10.55 &      0.25 &    27.65 &   193.82 \\\\\\\\\\n\\\\textbf{std  } &    42.36 &    18.35 &     0.47 &     0.18 &     0.11 &    59.21 &    51.00 &     20.83 &    26.10 &    74.73 \\\\\\\\\\n\\\\textbf{min  } &     4.28 &     0.00 &     1.94 &     0.01 &     0.00 &  -457.92 &  -331.78 &   -205.89 &     0.00 &     1.28 \\\\\\\\\\n\\\\textbf{25\\\\%  } &    24.34 &    11.86 &     2.48 &     0.24 &     0.13 &   -20.59 &   -12.84 &    -10.85 &     5.55 &   142.49 \\\\\\\\\\n\\\\textbf{50\\\\%  } &    37.15 &    17.14 &     2.74 &     0.35 &     0.20 &     4.01 &    15.31 &      0.67 &    17.68 &   191.85 \\\\\\\\\\n\\\\textbf{75\\\\%  } &    70.12 &    24.74 &     3.10 &     0.50 &     0.29 &    24.06 &    35.84 &     10.95 &    45.88 &   240.56 \\\\\\\\\\n\\\\textbf{max  } &   334.18 &   256.38 &     5.32 &     0.89 &     0.68 &   575.24 &   238.32 &    179.85 &    90.00 &   495.56 \\\\\\\\\\n\\\\bottomrule\\n\\\\end{tabular}\\n'"
            ]
          },
          "metadata": {
            "tags": []
          },
          "execution_count": 52
        }
      ]
    },
    {
      "cell_type": "code",
      "metadata": {
        "id": "UUOeyvCSzuQl",
        "colab_type": "code",
        "outputId": "076de34e-4b03-4e4a-dca5-a4e819d422db",
        "colab": {
          "base_uri": "https://localhost:8080/",
          "height": 317
        }
      },
      "source": [
        "datos_telescopio.describe()"
      ],
      "execution_count": 0,
      "outputs": [
        {
          "output_type": "execute_result",
          "data": {
            "text/html": [
              "<div>\n",
              "<style scoped>\n",
              "    .dataframe tbody tr th:only-of-type {\n",
              "        vertical-align: middle;\n",
              "    }\n",
              "\n",
              "    .dataframe tbody tr th {\n",
              "        vertical-align: top;\n",
              "    }\n",
              "\n",
              "    .dataframe thead th {\n",
              "        text-align: right;\n",
              "    }\n",
              "</style>\n",
              "<table border=\"1\" class=\"dataframe\">\n",
              "  <thead>\n",
              "    <tr style=\"text-align: right;\">\n",
              "      <th></th>\n",
              "      <th>fLength</th>\n",
              "      <th>fWidth</th>\n",
              "      <th>fSize</th>\n",
              "      <th>fConc</th>\n",
              "      <th>fConcl</th>\n",
              "      <th>fAsym</th>\n",
              "      <th>fM3Long</th>\n",
              "      <th>fM3Trans</th>\n",
              "      <th>fAlpha</th>\n",
              "      <th>fDist</th>\n",
              "    </tr>\n",
              "  </thead>\n",
              "  <tbody>\n",
              "    <tr>\n",
              "      <th>count</th>\n",
              "      <td>19020.000000</td>\n",
              "      <td>19020.000000</td>\n",
              "      <td>19020.000000</td>\n",
              "      <td>19020.000000</td>\n",
              "      <td>19020.000000</td>\n",
              "      <td>19020.000000</td>\n",
              "      <td>19020.000000</td>\n",
              "      <td>19020.000000</td>\n",
              "      <td>19020.000000</td>\n",
              "      <td>19020.000000</td>\n",
              "    </tr>\n",
              "    <tr>\n",
              "      <th>mean</th>\n",
              "      <td>53.250154</td>\n",
              "      <td>22.180966</td>\n",
              "      <td>2.825017</td>\n",
              "      <td>0.380327</td>\n",
              "      <td>0.214657</td>\n",
              "      <td>-4.331745</td>\n",
              "      <td>10.545545</td>\n",
              "      <td>0.249726</td>\n",
              "      <td>27.645707</td>\n",
              "      <td>193.818026</td>\n",
              "    </tr>\n",
              "    <tr>\n",
              "      <th>std</th>\n",
              "      <td>42.364855</td>\n",
              "      <td>18.346056</td>\n",
              "      <td>0.472599</td>\n",
              "      <td>0.182813</td>\n",
              "      <td>0.110511</td>\n",
              "      <td>59.206062</td>\n",
              "      <td>51.000118</td>\n",
              "      <td>20.827439</td>\n",
              "      <td>26.103621</td>\n",
              "      <td>74.731787</td>\n",
              "    </tr>\n",
              "    <tr>\n",
              "      <th>min</th>\n",
              "      <td>4.283500</td>\n",
              "      <td>0.000000</td>\n",
              "      <td>1.941300</td>\n",
              "      <td>0.013100</td>\n",
              "      <td>0.000300</td>\n",
              "      <td>-457.916100</td>\n",
              "      <td>-331.780000</td>\n",
              "      <td>-205.894700</td>\n",
              "      <td>0.000000</td>\n",
              "      <td>1.282600</td>\n",
              "    </tr>\n",
              "    <tr>\n",
              "      <th>25%</th>\n",
              "      <td>24.336000</td>\n",
              "      <td>11.863800</td>\n",
              "      <td>2.477100</td>\n",
              "      <td>0.235800</td>\n",
              "      <td>0.128475</td>\n",
              "      <td>-20.586550</td>\n",
              "      <td>-12.842775</td>\n",
              "      <td>-10.849375</td>\n",
              "      <td>5.547925</td>\n",
              "      <td>142.492250</td>\n",
              "    </tr>\n",
              "    <tr>\n",
              "      <th>50%</th>\n",
              "      <td>37.147700</td>\n",
              "      <td>17.139900</td>\n",
              "      <td>2.739600</td>\n",
              "      <td>0.354150</td>\n",
              "      <td>0.196500</td>\n",
              "      <td>4.013050</td>\n",
              "      <td>15.314100</td>\n",
              "      <td>0.666200</td>\n",
              "      <td>17.679500</td>\n",
              "      <td>191.851450</td>\n",
              "    </tr>\n",
              "    <tr>\n",
              "      <th>75%</th>\n",
              "      <td>70.122175</td>\n",
              "      <td>24.739475</td>\n",
              "      <td>3.101600</td>\n",
              "      <td>0.503700</td>\n",
              "      <td>0.285225</td>\n",
              "      <td>24.063700</td>\n",
              "      <td>35.837800</td>\n",
              "      <td>10.946425</td>\n",
              "      <td>45.883550</td>\n",
              "      <td>240.563825</td>\n",
              "    </tr>\n",
              "    <tr>\n",
              "      <th>max</th>\n",
              "      <td>334.177000</td>\n",
              "      <td>256.382000</td>\n",
              "      <td>5.323300</td>\n",
              "      <td>0.893000</td>\n",
              "      <td>0.675200</td>\n",
              "      <td>575.240700</td>\n",
              "      <td>238.321000</td>\n",
              "      <td>179.851000</td>\n",
              "      <td>90.000000</td>\n",
              "      <td>495.561000</td>\n",
              "    </tr>\n",
              "  </tbody>\n",
              "</table>\n",
              "</div>"
            ],
            "text/plain": [
              "            fLength        fWidth  ...        fAlpha         fDist\n",
              "count  19020.000000  19020.000000  ...  19020.000000  19020.000000\n",
              "mean      53.250154     22.180966  ...     27.645707    193.818026\n",
              "std       42.364855     18.346056  ...     26.103621     74.731787\n",
              "min        4.283500      0.000000  ...      0.000000      1.282600\n",
              "25%       24.336000     11.863800  ...      5.547925    142.492250\n",
              "50%       37.147700     17.139900  ...     17.679500    191.851450\n",
              "75%       70.122175     24.739475  ...     45.883550    240.563825\n",
              "max      334.177000    256.382000  ...     90.000000    495.561000\n",
              "\n",
              "[8 rows x 10 columns]"
            ]
          },
          "metadata": {
            "tags": []
          },
          "execution_count": 53
        }
      ]
    },
    {
      "cell_type": "markdown",
      "metadata": {
        "id": "qukrVySUYQov",
        "colab_type": "text"
      },
      "source": [
        "Como podemos ver, tenemos un data set con 10 variables y con 19 mil observaciones. Una de las variables es categorica y es la que describe el tipo de particula. Basado en el lugar donde se obtuvieron los datos, procederemos a añadir los nombres a cada una de las variables."
      ]
    },
    {
      "cell_type": "code",
      "metadata": {
        "id": "dItjcWToYs4H",
        "colab_type": "code",
        "colab": {}
      },
      "source": [
        "datos_telescopio.columns = ['fLength', 'fWidth','fSize','fConc','fConcl',\n",
        "                            'fAsym','fM3Long','fM3Trans','fAlpha',\n",
        "                            'fDist','clase']"
      ],
      "execution_count": 0,
      "outputs": []
    },
    {
      "cell_type": "code",
      "metadata": {
        "id": "pNgVn5YnY9UB",
        "colab_type": "code",
        "outputId": "d89b0ca5-676f-4669-b476-ae660626d9e1",
        "colab": {
          "base_uri": "https://localhost:8080/",
          "height": 204
        }
      },
      "source": [
        "datos_telescopio.head()"
      ],
      "execution_count": 0,
      "outputs": [
        {
          "output_type": "execute_result",
          "data": {
            "text/html": [
              "<div>\n",
              "<style scoped>\n",
              "    .dataframe tbody tr th:only-of-type {\n",
              "        vertical-align: middle;\n",
              "    }\n",
              "\n",
              "    .dataframe tbody tr th {\n",
              "        vertical-align: top;\n",
              "    }\n",
              "\n",
              "    .dataframe thead th {\n",
              "        text-align: right;\n",
              "    }\n",
              "</style>\n",
              "<table border=\"1\" class=\"dataframe\">\n",
              "  <thead>\n",
              "    <tr style=\"text-align: right;\">\n",
              "      <th></th>\n",
              "      <th>fLength</th>\n",
              "      <th>fWidth</th>\n",
              "      <th>fSize</th>\n",
              "      <th>fConc</th>\n",
              "      <th>fConcl</th>\n",
              "      <th>fAsym</th>\n",
              "      <th>fM3Long</th>\n",
              "      <th>fM3Trans</th>\n",
              "      <th>fAlpha</th>\n",
              "      <th>fDist</th>\n",
              "      <th>clase</th>\n",
              "    </tr>\n",
              "  </thead>\n",
              "  <tbody>\n",
              "    <tr>\n",
              "      <th>0</th>\n",
              "      <td>28.7967</td>\n",
              "      <td>16.0021</td>\n",
              "      <td>2.6449</td>\n",
              "      <td>0.3918</td>\n",
              "      <td>0.1982</td>\n",
              "      <td>27.7004</td>\n",
              "      <td>22.0110</td>\n",
              "      <td>-8.2027</td>\n",
              "      <td>40.0920</td>\n",
              "      <td>81.8828</td>\n",
              "      <td>g</td>\n",
              "    </tr>\n",
              "    <tr>\n",
              "      <th>1</th>\n",
              "      <td>31.6036</td>\n",
              "      <td>11.7235</td>\n",
              "      <td>2.5185</td>\n",
              "      <td>0.5303</td>\n",
              "      <td>0.3773</td>\n",
              "      <td>26.2722</td>\n",
              "      <td>23.8238</td>\n",
              "      <td>-9.9574</td>\n",
              "      <td>6.3609</td>\n",
              "      <td>205.2610</td>\n",
              "      <td>g</td>\n",
              "    </tr>\n",
              "    <tr>\n",
              "      <th>2</th>\n",
              "      <td>162.0520</td>\n",
              "      <td>136.0310</td>\n",
              "      <td>4.0612</td>\n",
              "      <td>0.0374</td>\n",
              "      <td>0.0187</td>\n",
              "      <td>116.7410</td>\n",
              "      <td>-64.8580</td>\n",
              "      <td>-45.2160</td>\n",
              "      <td>76.9600</td>\n",
              "      <td>256.7880</td>\n",
              "      <td>g</td>\n",
              "    </tr>\n",
              "    <tr>\n",
              "      <th>3</th>\n",
              "      <td>23.8172</td>\n",
              "      <td>9.5728</td>\n",
              "      <td>2.3385</td>\n",
              "      <td>0.6147</td>\n",
              "      <td>0.3922</td>\n",
              "      <td>27.2107</td>\n",
              "      <td>-6.4633</td>\n",
              "      <td>-7.1513</td>\n",
              "      <td>10.4490</td>\n",
              "      <td>116.7370</td>\n",
              "      <td>g</td>\n",
              "    </tr>\n",
              "    <tr>\n",
              "      <th>4</th>\n",
              "      <td>75.1362</td>\n",
              "      <td>30.9205</td>\n",
              "      <td>3.1611</td>\n",
              "      <td>0.3168</td>\n",
              "      <td>0.1832</td>\n",
              "      <td>-5.5277</td>\n",
              "      <td>28.5525</td>\n",
              "      <td>21.8393</td>\n",
              "      <td>4.6480</td>\n",
              "      <td>356.4620</td>\n",
              "      <td>g</td>\n",
              "    </tr>\n",
              "  </tbody>\n",
              "</table>\n",
              "</div>"
            ],
            "text/plain": [
              "    fLength    fWidth   fSize   fConc  ...  fM3Trans   fAlpha     fDist  clase\n",
              "0   28.7967   16.0021  2.6449  0.3918  ...   -8.2027  40.0920   81.8828      g\n",
              "1   31.6036   11.7235  2.5185  0.5303  ...   -9.9574   6.3609  205.2610      g\n",
              "2  162.0520  136.0310  4.0612  0.0374  ...  -45.2160  76.9600  256.7880      g\n",
              "3   23.8172    9.5728  2.3385  0.6147  ...   -7.1513  10.4490  116.7370      g\n",
              "4   75.1362   30.9205  3.1611  0.3168  ...   21.8393   4.6480  356.4620      g\n",
              "\n",
              "[5 rows x 11 columns]"
            ]
          },
          "metadata": {
            "tags": []
          },
          "execution_count": 7
        }
      ]
    },
    {
      "cell_type": "markdown",
      "metadata": {
        "id": "8PAe9QkgZD9O",
        "colab_type": "text"
      },
      "source": [
        "A continuación una breve descripción de los datos:\n",
        "\n",
        "\n",
        "*   **fLength**: Continua # eje principal de la elipse.\n",
        "*   **fWidth**: Continua # eje secundario de la elipse.\n",
        "*   **fSize**: Continua # 10 - logaritmo de la suma del contenido de todos los pixeles.\n",
        "*   **fConc**: Continua # razón entre la suma de los dos pixeles más altos sobre fSize.\n",
        "*   **fConc1**: Continua # razón del pizel más alto sobre fSize\n",
        "*   **fAsym**: Continua # distancia del pixel más alto al centro, proyectada sobre el eje mayor\n",
        "*   **fM3Long**: Continua # raiz tercera del tercer momento a lo largo del eje mayor\n",
        "*   **fM3Trans**: Continua # raiz tercera del tercer momento a lo largo del eje menor\n",
        "*   **fAlpha**: Continua # Angulo del eje principal con un vector de origen.\n",
        "*   **fDist**: Continua # distancia entre el origen al centro de la elipse.\n",
        "*   **Clase**: g,h # gamma(señal), hadron(ruido) - Variable objetivo\n",
        "\n"
      ]
    },
    {
      "cell_type": "code",
      "metadata": {
        "id": "zcU2HPyoY-qD",
        "colab_type": "code",
        "outputId": "b31d2bc7-a61e-4703-9038-6d099ab2fb6f",
        "colab": {
          "base_uri": "https://localhost:8080/",
          "height": 68
        }
      },
      "source": [
        "datos_telescopio['clase'].value_counts()"
      ],
      "execution_count": 0,
      "outputs": [
        {
          "output_type": "execute_result",
          "data": {
            "text/plain": [
              "g    12332\n",
              "h     6688\n",
              "Name: clase, dtype: int64"
            ]
          },
          "metadata": {
            "tags": []
          },
          "execution_count": 8
        }
      ]
    },
    {
      "cell_type": "markdown",
      "metadata": {
        "id": "D8-2hApqbYYC",
        "colab_type": "text"
      },
      "source": [
        "Se puede observar entonces que la mayoría de observaciones pertenecen a la clase gamma con 12332, mientras que la clase hadron tiene 6688 observaciones."
      ]
    },
    {
      "cell_type": "markdown",
      "metadata": {
        "id": "wTovOqDdhg1d",
        "colab_type": "text"
      },
      "source": [
        "## 3. Desarrollo del modelo"
      ]
    },
    {
      "cell_type": "markdown",
      "metadata": {
        "id": "b4e0Kt6BhyPq",
        "colab_type": "text"
      },
      "source": [
        "Primero realizaremos un pre procesamiento de los datos, en la primera parte ordenamos aleatoriamente los datos, luego generamos los codigos númericos para la variable clase."
      ]
    },
    {
      "cell_type": "code",
      "metadata": {
        "id": "rDwThV9DimJD",
        "colab_type": "code",
        "outputId": "0376c85f-6194-40c8-df33-a0c32be078b1",
        "colab": {
          "base_uri": "https://localhost:8080/",
          "height": 204
        }
      },
      "source": [
        "#Orden aleatorio\n",
        "datos_randomizados = datos_telescopio.iloc[np.random.permutation(len(datos_telescopio))]\n",
        "data = datos_randomizados.reset_index(drop=True)\n",
        "data.head()"
      ],
      "execution_count": 0,
      "outputs": [
        {
          "output_type": "execute_result",
          "data": {
            "text/html": [
              "<div>\n",
              "<style scoped>\n",
              "    .dataframe tbody tr th:only-of-type {\n",
              "        vertical-align: middle;\n",
              "    }\n",
              "\n",
              "    .dataframe tbody tr th {\n",
              "        vertical-align: top;\n",
              "    }\n",
              "\n",
              "    .dataframe thead th {\n",
              "        text-align: right;\n",
              "    }\n",
              "</style>\n",
              "<table border=\"1\" class=\"dataframe\">\n",
              "  <thead>\n",
              "    <tr style=\"text-align: right;\">\n",
              "      <th></th>\n",
              "      <th>fLength</th>\n",
              "      <th>fWidth</th>\n",
              "      <th>fSize</th>\n",
              "      <th>fConc</th>\n",
              "      <th>fConcl</th>\n",
              "      <th>fAsym</th>\n",
              "      <th>fM3Long</th>\n",
              "      <th>fM3Trans</th>\n",
              "      <th>fAlpha</th>\n",
              "      <th>fDist</th>\n",
              "      <th>clase</th>\n",
              "    </tr>\n",
              "  </thead>\n",
              "  <tbody>\n",
              "    <tr>\n",
              "      <th>0</th>\n",
              "      <td>38.8604</td>\n",
              "      <td>19.2070</td>\n",
              "      <td>2.8946</td>\n",
              "      <td>0.3110</td>\n",
              "      <td>0.1931</td>\n",
              "      <td>10.4087</td>\n",
              "      <td>35.6672</td>\n",
              "      <td>14.7268</td>\n",
              "      <td>5.8146</td>\n",
              "      <td>141.7650</td>\n",
              "      <td>g</td>\n",
              "    </tr>\n",
              "    <tr>\n",
              "      <th>1</th>\n",
              "      <td>23.2510</td>\n",
              "      <td>17.6772</td>\n",
              "      <td>2.6048</td>\n",
              "      <td>0.4845</td>\n",
              "      <td>0.2770</td>\n",
              "      <td>25.0677</td>\n",
              "      <td>21.5714</td>\n",
              "      <td>-14.7494</td>\n",
              "      <td>25.3941</td>\n",
              "      <td>244.0600</td>\n",
              "      <td>h</td>\n",
              "    </tr>\n",
              "    <tr>\n",
              "      <th>2</th>\n",
              "      <td>62.2097</td>\n",
              "      <td>25.1720</td>\n",
              "      <td>3.3344</td>\n",
              "      <td>0.1686</td>\n",
              "      <td>0.0864</td>\n",
              "      <td>6.4592</td>\n",
              "      <td>55.0157</td>\n",
              "      <td>14.4867</td>\n",
              "      <td>6.1974</td>\n",
              "      <td>217.0960</td>\n",
              "      <td>g</td>\n",
              "    </tr>\n",
              "    <tr>\n",
              "      <th>3</th>\n",
              "      <td>68.3318</td>\n",
              "      <td>15.8303</td>\n",
              "      <td>3.0165</td>\n",
              "      <td>0.2806</td>\n",
              "      <td>0.1621</td>\n",
              "      <td>-56.7726</td>\n",
              "      <td>-44.6009</td>\n",
              "      <td>12.5336</td>\n",
              "      <td>4.2399</td>\n",
              "      <td>65.3891</td>\n",
              "      <td>h</td>\n",
              "    </tr>\n",
              "    <tr>\n",
              "      <th>4</th>\n",
              "      <td>48.0649</td>\n",
              "      <td>6.4926</td>\n",
              "      <td>2.4433</td>\n",
              "      <td>0.5369</td>\n",
              "      <td>0.3550</td>\n",
              "      <td>-5.5375</td>\n",
              "      <td>-11.5578</td>\n",
              "      <td>4.9494</td>\n",
              "      <td>12.5969</td>\n",
              "      <td>256.0290</td>\n",
              "      <td>g</td>\n",
              "    </tr>\n",
              "  </tbody>\n",
              "</table>\n",
              "</div>"
            ],
            "text/plain": [
              "   fLength   fWidth   fSize   fConc  ...  fM3Trans   fAlpha     fDist  clase\n",
              "0  38.8604  19.2070  2.8946  0.3110  ...   14.7268   5.8146  141.7650      g\n",
              "1  23.2510  17.6772  2.6048  0.4845  ...  -14.7494  25.3941  244.0600      h\n",
              "2  62.2097  25.1720  3.3344  0.1686  ...   14.4867   6.1974  217.0960      g\n",
              "3  68.3318  15.8303  3.0165  0.2806  ...   12.5336   4.2399   65.3891      h\n",
              "4  48.0649   6.4926  2.4433  0.5369  ...    4.9494  12.5969  256.0290      g\n",
              "\n",
              "[5 rows x 11 columns]"
            ]
          },
          "metadata": {
            "tags": []
          },
          "execution_count": 9
        }
      ]
    },
    {
      "cell_type": "code",
      "metadata": {
        "id": "oh-pFsvqh-s6",
        "colab_type": "code",
        "outputId": "bcecf61a-5ec4-4f6b-d492-17b8ee0aa48e",
        "colab": {
          "base_uri": "https://localhost:8080/",
          "height": 204
        }
      },
      "source": [
        "#Crear código para variable clase\n",
        "data['clase'] = data['clase'].map({'g':0,'h':1})\n",
        "data.head()"
      ],
      "execution_count": 0,
      "outputs": [
        {
          "output_type": "execute_result",
          "data": {
            "text/html": [
              "<div>\n",
              "<style scoped>\n",
              "    .dataframe tbody tr th:only-of-type {\n",
              "        vertical-align: middle;\n",
              "    }\n",
              "\n",
              "    .dataframe tbody tr th {\n",
              "        vertical-align: top;\n",
              "    }\n",
              "\n",
              "    .dataframe thead th {\n",
              "        text-align: right;\n",
              "    }\n",
              "</style>\n",
              "<table border=\"1\" class=\"dataframe\">\n",
              "  <thead>\n",
              "    <tr style=\"text-align: right;\">\n",
              "      <th></th>\n",
              "      <th>fLength</th>\n",
              "      <th>fWidth</th>\n",
              "      <th>fSize</th>\n",
              "      <th>fConc</th>\n",
              "      <th>fConcl</th>\n",
              "      <th>fAsym</th>\n",
              "      <th>fM3Long</th>\n",
              "      <th>fM3Trans</th>\n",
              "      <th>fAlpha</th>\n",
              "      <th>fDist</th>\n",
              "      <th>clase</th>\n",
              "    </tr>\n",
              "  </thead>\n",
              "  <tbody>\n",
              "    <tr>\n",
              "      <th>0</th>\n",
              "      <td>38.8604</td>\n",
              "      <td>19.2070</td>\n",
              "      <td>2.8946</td>\n",
              "      <td>0.3110</td>\n",
              "      <td>0.1931</td>\n",
              "      <td>10.4087</td>\n",
              "      <td>35.6672</td>\n",
              "      <td>14.7268</td>\n",
              "      <td>5.8146</td>\n",
              "      <td>141.7650</td>\n",
              "      <td>0</td>\n",
              "    </tr>\n",
              "    <tr>\n",
              "      <th>1</th>\n",
              "      <td>23.2510</td>\n",
              "      <td>17.6772</td>\n",
              "      <td>2.6048</td>\n",
              "      <td>0.4845</td>\n",
              "      <td>0.2770</td>\n",
              "      <td>25.0677</td>\n",
              "      <td>21.5714</td>\n",
              "      <td>-14.7494</td>\n",
              "      <td>25.3941</td>\n",
              "      <td>244.0600</td>\n",
              "      <td>1</td>\n",
              "    </tr>\n",
              "    <tr>\n",
              "      <th>2</th>\n",
              "      <td>62.2097</td>\n",
              "      <td>25.1720</td>\n",
              "      <td>3.3344</td>\n",
              "      <td>0.1686</td>\n",
              "      <td>0.0864</td>\n",
              "      <td>6.4592</td>\n",
              "      <td>55.0157</td>\n",
              "      <td>14.4867</td>\n",
              "      <td>6.1974</td>\n",
              "      <td>217.0960</td>\n",
              "      <td>0</td>\n",
              "    </tr>\n",
              "    <tr>\n",
              "      <th>3</th>\n",
              "      <td>68.3318</td>\n",
              "      <td>15.8303</td>\n",
              "      <td>3.0165</td>\n",
              "      <td>0.2806</td>\n",
              "      <td>0.1621</td>\n",
              "      <td>-56.7726</td>\n",
              "      <td>-44.6009</td>\n",
              "      <td>12.5336</td>\n",
              "      <td>4.2399</td>\n",
              "      <td>65.3891</td>\n",
              "      <td>1</td>\n",
              "    </tr>\n",
              "    <tr>\n",
              "      <th>4</th>\n",
              "      <td>48.0649</td>\n",
              "      <td>6.4926</td>\n",
              "      <td>2.4433</td>\n",
              "      <td>0.5369</td>\n",
              "      <td>0.3550</td>\n",
              "      <td>-5.5375</td>\n",
              "      <td>-11.5578</td>\n",
              "      <td>4.9494</td>\n",
              "      <td>12.5969</td>\n",
              "      <td>256.0290</td>\n",
              "      <td>0</td>\n",
              "    </tr>\n",
              "  </tbody>\n",
              "</table>\n",
              "</div>"
            ],
            "text/plain": [
              "   fLength   fWidth   fSize   fConc  ...  fM3Trans   fAlpha     fDist  clase\n",
              "0  38.8604  19.2070  2.8946  0.3110  ...   14.7268   5.8146  141.7650      0\n",
              "1  23.2510  17.6772  2.6048  0.4845  ...  -14.7494  25.3941  244.0600      1\n",
              "2  62.2097  25.1720  3.3344  0.1686  ...   14.4867   6.1974  217.0960      0\n",
              "3  68.3318  15.8303  3.0165  0.2806  ...   12.5336   4.2399   65.3891      1\n",
              "4  48.0649   6.4926  2.4433  0.5369  ...    4.9494  12.5969  256.0290      0\n",
              "\n",
              "[5 rows x 11 columns]"
            ]
          },
          "metadata": {
            "tags": []
          },
          "execution_count": 10
        }
      ]
    },
    {
      "cell_type": "code",
      "metadata": {
        "id": "cjrUwmkcj91F",
        "colab_type": "code",
        "colab": {}
      },
      "source": [
        "#Creamos la variable objetivo aparte\n",
        "clase = data['clase'].values"
      ],
      "execution_count": 0,
      "outputs": []
    },
    {
      "cell_type": "code",
      "metadata": {
        "id": "ln1vZDhpbRxk",
        "colab_type": "code",
        "colab": {}
      },
      "source": [
        "from sklearn.model_selection import train_test_split"
      ],
      "execution_count": 0,
      "outputs": []
    },
    {
      "cell_type": "code",
      "metadata": {
        "id": "4I9sSOEWlU60",
        "colab_type": "code",
        "colab": {}
      },
      "source": [
        "training_indices, validation_indices = training_indices, testing_indices = train_test_split(data.index,\n",
        "                                                                                            stratify = clase,\n",
        "                                                                                            train_size=0.75, test_size=0.25)"
      ],
      "execution_count": 0,
      "outputs": []
    },
    {
      "cell_type": "code",
      "metadata": {
        "id": "XoVfr9SVladI",
        "colab_type": "code",
        "outputId": "1b797ebe-c860-4845-9b8c-d15302def0e8",
        "colab": {
          "base_uri": "https://localhost:8080/",
          "height": 34
        }
      },
      "source": [
        "training_indices.size, validation_indices.size"
      ],
      "execution_count": 0,
      "outputs": [
        {
          "output_type": "execute_result",
          "data": {
            "text/plain": [
              "(14265, 4755)"
            ]
          },
          "metadata": {
            "tags": []
          },
          "execution_count": 14
        }
      ]
    },
    {
      "cell_type": "markdown",
      "metadata": {
        "id": "EJBt8UJPqJ8P",
        "colab_type": "text"
      },
      "source": [
        "Para realizar el algoritmo, utilizaremos la librería tpot e importaremos TPOTClassifier. Este tiene varios parametros, pero mencionaremos los más importantes:\n",
        "\n",
        "\n",
        "\n",
        "1.   **Generaciones/generations**: Número de iteraciónes para correr el proceso de optimización. El valor por defecto es 100\n",
        "2.   **population_size**: Número de individuos a retener en la programación genetica. El valor por defecto es 100.\n",
        "3.   **offspring_size**: Numero de descendentes a proucir por cada generación de programación genética. Defecto 100.\n",
        "4.   **mutation_rate**: Tasa de mutación para el algoritmo de programación genetica, rangos entre 0 y 1. Este parametro indica cuantos cambios aleatorios aplicar a cada generación. Defecto 0.9.\n",
        "5.   **Crossover_rate**: Tasa de curce para el algoritmo, entre 0 y 1.\n",
        "6.   **Scoring**: Función usada para evaluar la calidad para el problema de clasificación. Defecto es accuracy.\n",
        "7.   **cv**: Estrategia de validación curzada cuando se evaluan las fuentes de información.\n",
        "8.   **random_state**: La semilla del numero pseudo-aleatorio usado en TPOT.\n",
        "\n"
      ]
    },
    {
      "cell_type": "code",
      "metadata": {
        "id": "oZb4dHe3kLEx",
        "colab_type": "code",
        "outputId": "abeb4560-7825-44b5-d3d0-16f83750ae16",
        "colab": {
          "base_uri": "https://localhost:8080/",
          "height": 734
        }
      },
      "source": [
        "!pip install tpot"
      ],
      "execution_count": 0,
      "outputs": [
        {
          "output_type": "stream",
          "text": [
            "Collecting tpot\n",
            "\u001b[?25l  Downloading https://files.pythonhosted.org/packages/ea/9f/813faf5ec7aa95f393a07603abd01fcb925b65ffe95441b25da029a69ff7/TPOT-0.11.1-py3-none-any.whl (75kB)\n",
            "\u001b[K     |████████████████████████████████| 81kB 2.5MB/s \n",
            "\u001b[?25hRequirement already satisfied: numpy>=1.16.3 in /usr/local/lib/python3.6/dist-packages (from tpot) (1.17.5)\n",
            "Collecting tqdm>=4.36.1\n",
            "\u001b[?25l  Downloading https://files.pythonhosted.org/packages/47/55/fd9170ba08a1a64a18a7f8a18f088037316f2a41be04d2fe6ece5a653e8f/tqdm-4.43.0-py2.py3-none-any.whl (59kB)\n",
            "\u001b[K     |████████████████████████████████| 61kB 6.8MB/s \n",
            "\u001b[?25hCollecting update-checker>=0.16\n",
            "  Downloading https://files.pythonhosted.org/packages/17/c9/ab11855af164d03be0ff4fddd4c46a5bd44799a9ecc1770e01a669c21168/update_checker-0.16-py2.py3-none-any.whl\n",
            "Requirement already satisfied: scipy>=1.3.1 in /usr/local/lib/python3.6/dist-packages (from tpot) (1.4.1)\n",
            "Requirement already satisfied: pandas>=0.24.2 in /usr/local/lib/python3.6/dist-packages (from tpot) (0.25.3)\n",
            "Collecting stopit>=1.1.1\n",
            "  Downloading https://files.pythonhosted.org/packages/35/58/e8bb0b0fb05baf07bbac1450c447d753da65f9701f551dca79823ce15d50/stopit-1.1.2.tar.gz\n",
            "Requirement already satisfied: scikit-learn>=0.22.0 in /usr/local/lib/python3.6/dist-packages (from tpot) (0.22.1)\n",
            "Requirement already satisfied: joblib>=0.13.2 in /usr/local/lib/python3.6/dist-packages (from tpot) (0.14.1)\n",
            "Collecting deap>=1.2\n",
            "\u001b[?25l  Downloading https://files.pythonhosted.org/packages/0a/eb/2bd0a32e3ce757fb26264765abbaedd6d4d3640d90219a513aeabd08ee2b/deap-1.3.1-cp36-cp36m-manylinux2010_x86_64.whl (157kB)\n",
            "\u001b[K     |████████████████████████████████| 163kB 44.4MB/s \n",
            "\u001b[?25hRequirement already satisfied: requests>=2.3.0 in /usr/local/lib/python3.6/dist-packages (from update-checker>=0.16->tpot) (2.21.0)\n",
            "Requirement already satisfied: pytz>=2017.2 in /usr/local/lib/python3.6/dist-packages (from pandas>=0.24.2->tpot) (2018.9)\n",
            "Requirement already satisfied: python-dateutil>=2.6.1 in /usr/local/lib/python3.6/dist-packages (from pandas>=0.24.2->tpot) (2.6.1)\n",
            "Requirement already satisfied: idna<2.9,>=2.5 in /usr/local/lib/python3.6/dist-packages (from requests>=2.3.0->update-checker>=0.16->tpot) (2.8)\n",
            "Requirement already satisfied: chardet<3.1.0,>=3.0.2 in /usr/local/lib/python3.6/dist-packages (from requests>=2.3.0->update-checker>=0.16->tpot) (3.0.4)\n",
            "Requirement already satisfied: certifi>=2017.4.17 in /usr/local/lib/python3.6/dist-packages (from requests>=2.3.0->update-checker>=0.16->tpot) (2019.11.28)\n",
            "Requirement already satisfied: urllib3<1.25,>=1.21.1 in /usr/local/lib/python3.6/dist-packages (from requests>=2.3.0->update-checker>=0.16->tpot) (1.24.3)\n",
            "Requirement already satisfied: six>=1.5 in /usr/local/lib/python3.6/dist-packages (from python-dateutil>=2.6.1->pandas>=0.24.2->tpot) (1.12.0)\n",
            "Building wheels for collected packages: stopit\n",
            "  Building wheel for stopit (setup.py) ... \u001b[?25l\u001b[?25hdone\n",
            "  Created wheel for stopit: filename=stopit-1.1.2-cp36-none-any.whl size=11956 sha256=ae65a6030fd142cf806aa73ff4f798d85c527436015901704d7065b22ec020b9\n",
            "  Stored in directory: /root/.cache/pip/wheels/3c/85/2b/2580190404636bfc63e8de3dff629c03bb795021e1983a6cc7\n",
            "Successfully built stopit\n",
            "Installing collected packages: tqdm, update-checker, stopit, deap, tpot\n",
            "  Found existing installation: tqdm 4.28.1\n",
            "    Uninstalling tqdm-4.28.1:\n",
            "      Successfully uninstalled tqdm-4.28.1\n",
            "Successfully installed deap-1.3.1 stopit-1.1.2 tpot-0.11.1 tqdm-4.43.0 update-checker-0.16\n"
          ],
          "name": "stdout"
        },
        {
          "output_type": "display_data",
          "data": {
            "application/vnd.colab-display-data+json": {
              "pip_warning": {
                "packages": [
                  "tqdm"
                ]
              }
            }
          },
          "metadata": {
            "tags": []
          }
        }
      ]
    },
    {
      "cell_type": "code",
      "metadata": {
        "id": "li2heyrykxLN",
        "colab_type": "code",
        "colab": {}
      },
      "source": [
        "from tpot import TPOTClassifier"
      ],
      "execution_count": 0,
      "outputs": []
    },
    {
      "cell_type": "code",
      "metadata": {
        "id": "o5ZhynowsOc7",
        "colab_type": "code",
        "outputId": "23aa35ea-12c7-4801-9c36-4d8cf9c99178",
        "colab": {
          "base_uri": "https://localhost:8080/",
          "height": 275,
          "referenced_widgets": [
            "1a4c48b2b6c74bad9842df853340ff57",
            "7f503cb6f5074a9883081916c82cb4f4",
            "d717f93fd4c04a648cbc8ecbb3c7c8cb",
            "ec64ee71fe2b4901b4b7f9afca5ee64b",
            "43fca7aa8a1a4d6aaa370ed5852b14e6",
            "dd40785d254a49afabf04144942e80cd",
            "46d9f63be40e4ccd889b6d525f39b89f",
            "34b5be19816e46c59ee7b3725c4a6e73"
          ]
        }
      },
      "source": [
        "tpot = TPOTClassifier(generations = 5, verbosity = 2)\n",
        "tpot.fit(data.drop('clase',axis=1).loc[training_indices].values,\n",
        "         data.loc[training_indices,'clase'].values)"
      ],
      "execution_count": 0,
      "outputs": [
        {
          "output_type": "display_data",
          "data": {
            "application/vnd.jupyter.widget-view+json": {
              "model_id": "1a4c48b2b6c74bad9842df853340ff57",
              "version_minor": 0,
              "version_major": 2
            },
            "text/plain": [
              "HBox(children=(FloatProgress(value=0.0, description='Optimization Progress', max=600.0, style=ProgressStyle(de…"
            ]
          },
          "metadata": {
            "tags": []
          }
        },
        {
          "output_type": "stream",
          "text": [
            "Generation 1 - Current best internal CV score: 0.881037504381353\n",
            "Generation 2 - Current best internal CV score: 0.8811076060287417\n",
            "Generation 3 - Current best internal CV score: 0.8811076060287417\n",
            "Generation 4 - Current best internal CV score: 0.8825096389765159\n",
            "Generation 5 - Current best internal CV score: 0.8831405538030144\n",
            "\n",
            "Best pipeline: GradientBoostingClassifier(MinMaxScaler(StandardScaler(input_matrix)), learning_rate=0.1, max_depth=7, max_features=1.0, min_samples_leaf=5, min_samples_split=2, n_estimators=100, subsample=0.8)\n"
          ],
          "name": "stdout"
        },
        {
          "output_type": "execute_result",
          "data": {
            "text/plain": [
              "TPOTClassifier(config_dict=None, crossover_rate=0.1, cv=5,\n",
              "               disable_update_check=False, early_stop=None, generations=5,\n",
              "               max_eval_time_mins=5, max_time_mins=None, memory=None,\n",
              "               mutation_rate=0.9, n_jobs=1, offspring_size=None,\n",
              "               periodic_checkpoint_folder=None, population_size=100,\n",
              "               random_state=None, scoring=None, subsample=1.0, template=None,\n",
              "               use_dask=False, verbosity=2, warm_start=False)"
            ]
          },
          "metadata": {
            "tags": []
          },
          "execution_count": 16
        }
      ]
    },
    {
      "cell_type": "markdown",
      "metadata": {
        "id": "2054a2f2XxAT",
        "colab_type": "text"
      },
      "source": [
        "Se puede observar que se corrieron 5 generaciones, donde se muestra el accurracy para el modelo en cada una de ellas, donde se ve una leve mejora entre la primera generación y la última. Se puede observar que el mejor modelo y el que más se ajusta a los datos es GradientBoostingClassifier, y el algoritmo genético nos arroja cuales deben ser los parametros."
      ]
    },
    {
      "cell_type": "markdown",
      "metadata": {
        "id": "pOp8tHmUY0Qc",
        "colab_type": "text"
      },
      "source": [
        "El algoritmo anterior tomó varias horas en correr, pero es posible ajustar unos parametros para limitar el tiempo de corrida del algoritmo, sin embargo, al ajustar estos parametros estamos generando que el algoritmo no recorra todos los modelos posibles y puede que el modelo que arroje no sea el más óptimo.\n",
        "\n"
      ]
    },
    {
      "cell_type": "code",
      "metadata": {
        "id": "IZdFarPcY5Ep",
        "colab_type": "code",
        "outputId": "3108be70-6120-438e-a251-f02954c944a8",
        "colab": {
          "base_uri": "https://localhost:8080/",
          "height": 394,
          "referenced_widgets": [
            "c3b1e7eb31a44960819d277ef1498a99",
            "bd95086bcde54b93822a28ebdc080d53",
            "930540de359c49c792af6be7ecc1b8cc",
            "05611d03428b466c99719deb7a53d686",
            "50c561d943ae41f0ade23e0f01730047",
            "28419e0c1c8b4b0484bfd7bb4c90de3f",
            "13dd04a9613f4953bc651e0e7af54281",
            "ff6390e7bed44914acbb9420421e58a2"
          ]
        }
      },
      "source": [
        "tpot = TPOTClassifier(verbosity=2, max_time_mins=2,max_eval_time_mins=0.04,\n",
        "                      population_size = 15)\n",
        "tpot.fit(data.drop('clase',axis=1).loc[training_indices].values,\n",
        "         data.loc[training_indices,'clase'].values)"
      ],
      "execution_count": 0,
      "outputs": [
        {
          "output_type": "display_data",
          "data": {
            "application/vnd.jupyter.widget-view+json": {
              "model_id": "c3b1e7eb31a44960819d277ef1498a99",
              "version_minor": 0,
              "version_major": 2
            },
            "text/plain": [
              "HBox(children=(FloatProgress(value=0.0, description='Optimization Progress', max=15.0, style=ProgressStyle(des…"
            ]
          },
          "metadata": {
            "tags": []
          }
        },
        {
          "output_type": "stream",
          "text": [
            "Generation 1 - Current best internal CV score: 0.8422712933753942\n",
            "Generation 2 - Current best internal CV score: 0.8422712933753942\n",
            "Generation 3 - Current best internal CV score: 0.8432527164388363\n",
            "Generation 4 - Current best internal CV score: 0.8432527164388363\n",
            "Generation 5 - Current best internal CV score: 0.8432527164388363\n",
            "\n",
            "2.03 minutes have elapsed. TPOT will close down.\n",
            "TPOT closed during evaluation in one generation.\n",
            "WARNING: TPOT may not provide a good pipeline if TPOT is stopped/interrupted in a early generation.\n",
            "\n",
            "\n",
            "TPOT closed prematurely. Will use the current best pipeline.\n",
            "\n",
            "Best pipeline: DecisionTreeClassifier(input_matrix, criterion=entropy, max_depth=9, min_samples_leaf=13, min_samples_split=9)\n"
          ],
          "name": "stdout"
        },
        {
          "output_type": "execute_result",
          "data": {
            "text/plain": [
              "TPOTClassifier(config_dict=None, crossover_rate=0.1, cv=5,\n",
              "               disable_update_check=False, early_stop=None, generations=100,\n",
              "               max_eval_time_mins=0.04, max_time_mins=2, memory=None,\n",
              "               mutation_rate=0.9, n_jobs=1, offspring_size=None,\n",
              "               periodic_checkpoint_folder=None, population_size=15,\n",
              "               random_state=None, scoring=None, subsample=1.0, template=None,\n",
              "               use_dask=False, verbosity=2, warm_start=False)"
            ]
          },
          "metadata": {
            "tags": []
          },
          "execution_count": 17
        }
      ]
    },
    {
      "cell_type": "code",
      "metadata": {
        "id": "XA0cP_R7agxZ",
        "colab_type": "code",
        "outputId": "6a25f60e-95e2-4435-bcf1-d37b2bcf5368",
        "colab": {
          "base_uri": "https://localhost:8080/",
          "height": 34
        }
      },
      "source": [
        "tpot.score(data.drop('clase',axis=1).loc[validation_indices].values,\n",
        "           data.loc[validation_indices, 'clase'].values)"
      ],
      "execution_count": 0,
      "outputs": [
        {
          "output_type": "execute_result",
          "data": {
            "text/plain": [
              "0.8557308096740274"
            ]
          },
          "metadata": {
            "tags": []
          },
          "execution_count": 18
        }
      ]
    },
    {
      "cell_type": "markdown",
      "metadata": {
        "id": "f8YnQhgtbTw8",
        "colab_type": "text"
      },
      "source": [
        "Es evidente entonces que al limitar el tiempo de computo del algoritmo genético, perdemos precisión. Esto nos lleva a la conclusión de, que los algoritmos genéticos son heurísticas para solucionar problemas de optimización np completos, es decir que tienen una alta complejidad. Al limitar los parámetros que manejan los algoritmos, nos dejaran en un óptimo local mas no el óptimo global."
      ]
    },
    {
      "cell_type": "markdown",
      "metadata": {
        "id": "c4zbv7L_b5aQ",
        "colab_type": "text"
      },
      "source": [
        "Ahora probemos en otra base de datos"
      ]
    },
    {
      "cell_type": "code",
      "metadata": {
        "id": "-MUc2zpXbQ4T",
        "colab_type": "code",
        "colab": {}
      },
      "source": [
        "player = pd.read_parquet('/content/drive/My Drive/Maestría en ciencia de los datos y análitica/Aprendizaje Automatico/player_attributes.parquet')"
      ],
      "execution_count": 0,
      "outputs": []
    },
    {
      "cell_type": "code",
      "metadata": {
        "id": "gbuTGXPCcOSJ",
        "colab_type": "code",
        "outputId": "637a6b5d-c7f6-4701-d7c1-298bb9cfc0ce",
        "colab": {
          "base_uri": "https://localhost:8080/",
          "height": 224
        }
      },
      "source": [
        "#Primero ordenamos de manera aleatoria nuestros datos\n",
        "random_players = player.iloc[np.random.permutation(len(player))]\n",
        "players = random_players.reset_index(drop= True)\n",
        "players.head()"
      ],
      "execution_count": 0,
      "outputs": [
        {
          "output_type": "execute_result",
          "data": {
            "text/html": [
              "<div>\n",
              "<style scoped>\n",
              "    .dataframe tbody tr th:only-of-type {\n",
              "        vertical-align: middle;\n",
              "    }\n",
              "\n",
              "    .dataframe tbody tr th {\n",
              "        vertical-align: top;\n",
              "    }\n",
              "\n",
              "    .dataframe thead th {\n",
              "        text-align: right;\n",
              "    }\n",
              "</style>\n",
              "<table border=\"1\" class=\"dataframe\">\n",
              "  <thead>\n",
              "    <tr style=\"text-align: right;\">\n",
              "      <th></th>\n",
              "      <th>overall_rating</th>\n",
              "      <th>potential</th>\n",
              "      <th>crossing</th>\n",
              "      <th>finishing</th>\n",
              "      <th>heading_accuracy</th>\n",
              "      <th>volleys</th>\n",
              "      <th>curve</th>\n",
              "      <th>free_kick_accuracy</th>\n",
              "      <th>long_passing</th>\n",
              "      <th>ball_control</th>\n",
              "      <th>acceleration</th>\n",
              "      <th>sprint_speed</th>\n",
              "      <th>agility</th>\n",
              "      <th>reactions</th>\n",
              "      <th>balance</th>\n",
              "      <th>shot_power</th>\n",
              "      <th>jumping</th>\n",
              "      <th>stamina</th>\n",
              "      <th>strength</th>\n",
              "      <th>long_shots</th>\n",
              "      <th>aggression</th>\n",
              "      <th>positioning</th>\n",
              "      <th>vision</th>\n",
              "      <th>penalties</th>\n",
              "      <th>marking</th>\n",
              "      <th>high_attacking</th>\n",
              "      <th>low_attacking</th>\n",
              "      <th>medium_attacking</th>\n",
              "      <th>high</th>\n",
              "      <th>low</th>\n",
              "      <th>medium</th>\n",
              "      <th>overall_gk</th>\n",
              "      <th>preferred_foot_bin</th>\n",
              "    </tr>\n",
              "  </thead>\n",
              "  <tbody>\n",
              "    <tr>\n",
              "      <th>0</th>\n",
              "      <td>0.655738</td>\n",
              "      <td>0.672414</td>\n",
              "      <td>0.723404</td>\n",
              "      <td>0.697917</td>\n",
              "      <td>0.680412</td>\n",
              "      <td>0.641304</td>\n",
              "      <td>0.815217</td>\n",
              "      <td>0.697917</td>\n",
              "      <td>0.680851</td>\n",
              "      <td>0.739130</td>\n",
              "      <td>0.857143</td>\n",
              "      <td>0.858824</td>\n",
              "      <td>0.776471</td>\n",
              "      <td>0.696203</td>\n",
              "      <td>0.702381</td>\n",
              "      <td>0.768421</td>\n",
              "      <td>0.682927</td>\n",
              "      <td>0.732558</td>\n",
              "      <td>0.616279</td>\n",
              "      <td>0.800000</td>\n",
              "      <td>0.582418</td>\n",
              "      <td>0.774194</td>\n",
              "      <td>0.718750</td>\n",
              "      <td>0.553191</td>\n",
              "      <td>0.322581</td>\n",
              "      <td>1</td>\n",
              "      <td>0</td>\n",
              "      <td>0</td>\n",
              "      <td>0</td>\n",
              "      <td>0</td>\n",
              "      <td>1</td>\n",
              "      <td>0.095426</td>\n",
              "      <td>1</td>\n",
              "    </tr>\n",
              "    <tr>\n",
              "      <th>1</th>\n",
              "      <td>0.459016</td>\n",
              "      <td>0.500000</td>\n",
              "      <td>0.340426</td>\n",
              "      <td>0.239583</td>\n",
              "      <td>0.628866</td>\n",
              "      <td>0.173913</td>\n",
              "      <td>0.228261</td>\n",
              "      <td>0.177083</td>\n",
              "      <td>0.414894</td>\n",
              "      <td>0.478261</td>\n",
              "      <td>0.547619</td>\n",
              "      <td>0.552941</td>\n",
              "      <td>0.576471</td>\n",
              "      <td>0.455696</td>\n",
              "      <td>0.595238</td>\n",
              "      <td>0.389474</td>\n",
              "      <td>0.658537</td>\n",
              "      <td>0.604651</td>\n",
              "      <td>0.627907</td>\n",
              "      <td>0.242105</td>\n",
              "      <td>0.582418</td>\n",
              "      <td>0.548387</td>\n",
              "      <td>0.531250</td>\n",
              "      <td>0.521277</td>\n",
              "      <td>0.666667</td>\n",
              "      <td>0</td>\n",
              "      <td>0</td>\n",
              "      <td>1</td>\n",
              "      <td>0</td>\n",
              "      <td>0</td>\n",
              "      <td>1</td>\n",
              "      <td>0.245162</td>\n",
              "      <td>1</td>\n",
              "    </tr>\n",
              "    <tr>\n",
              "      <th>2</th>\n",
              "      <td>0.770492</td>\n",
              "      <td>0.758621</td>\n",
              "      <td>0.808511</td>\n",
              "      <td>0.843750</td>\n",
              "      <td>0.793814</td>\n",
              "      <td>0.815217</td>\n",
              "      <td>0.673913</td>\n",
              "      <td>0.666667</td>\n",
              "      <td>0.702128</td>\n",
              "      <td>0.793478</td>\n",
              "      <td>0.988095</td>\n",
              "      <td>0.976471</td>\n",
              "      <td>0.823529</td>\n",
              "      <td>0.822785</td>\n",
              "      <td>0.654762</td>\n",
              "      <td>0.789474</td>\n",
              "      <td>0.743902</td>\n",
              "      <td>0.837209</td>\n",
              "      <td>0.720930</td>\n",
              "      <td>0.747368</td>\n",
              "      <td>0.516484</td>\n",
              "      <td>0.860215</td>\n",
              "      <td>0.791667</td>\n",
              "      <td>0.765957</td>\n",
              "      <td>0.430108</td>\n",
              "      <td>1</td>\n",
              "      <td>0</td>\n",
              "      <td>0</td>\n",
              "      <td>0</td>\n",
              "      <td>0</td>\n",
              "      <td>1</td>\n",
              "      <td>0.090995</td>\n",
              "      <td>1</td>\n",
              "    </tr>\n",
              "    <tr>\n",
              "      <th>3</th>\n",
              "      <td>0.491803</td>\n",
              "      <td>0.413793</td>\n",
              "      <td>0.765957</td>\n",
              "      <td>0.677083</td>\n",
              "      <td>0.453608</td>\n",
              "      <td>0.782609</td>\n",
              "      <td>0.847826</td>\n",
              "      <td>0.833333</td>\n",
              "      <td>0.638298</td>\n",
              "      <td>0.728261</td>\n",
              "      <td>0.107143</td>\n",
              "      <td>0.176471</td>\n",
              "      <td>0.682353</td>\n",
              "      <td>0.544304</td>\n",
              "      <td>0.750000</td>\n",
              "      <td>0.736842</td>\n",
              "      <td>0.524390</td>\n",
              "      <td>0.279070</td>\n",
              "      <td>0.546512</td>\n",
              "      <td>0.663158</td>\n",
              "      <td>0.681319</td>\n",
              "      <td>0.720430</td>\n",
              "      <td>0.708333</td>\n",
              "      <td>0.797872</td>\n",
              "      <td>0.301075</td>\n",
              "      <td>0</td>\n",
              "      <td>0</td>\n",
              "      <td>1</td>\n",
              "      <td>0</td>\n",
              "      <td>0</td>\n",
              "      <td>1</td>\n",
              "      <td>0.093842</td>\n",
              "      <td>1</td>\n",
              "    </tr>\n",
              "    <tr>\n",
              "      <th>4</th>\n",
              "      <td>0.524590</td>\n",
              "      <td>0.500000</td>\n",
              "      <td>0.606383</td>\n",
              "      <td>0.572917</td>\n",
              "      <td>0.556701</td>\n",
              "      <td>0.456522</td>\n",
              "      <td>0.652174</td>\n",
              "      <td>0.645833</td>\n",
              "      <td>0.648936</td>\n",
              "      <td>0.673913</td>\n",
              "      <td>0.607143</td>\n",
              "      <td>0.576471</td>\n",
              "      <td>0.694118</td>\n",
              "      <td>0.607595</td>\n",
              "      <td>0.797619</td>\n",
              "      <td>0.694737</td>\n",
              "      <td>0.719512</td>\n",
              "      <td>0.627907</td>\n",
              "      <td>0.639535</td>\n",
              "      <td>0.694737</td>\n",
              "      <td>0.560440</td>\n",
              "      <td>0.655914</td>\n",
              "      <td>0.739583</td>\n",
              "      <td>0.606383</td>\n",
              "      <td>0.483871</td>\n",
              "      <td>0</td>\n",
              "      <td>0</td>\n",
              "      <td>1</td>\n",
              "      <td>0</td>\n",
              "      <td>0</td>\n",
              "      <td>1</td>\n",
              "      <td>0.271842</td>\n",
              "      <td>1</td>\n",
              "    </tr>\n",
              "  </tbody>\n",
              "</table>\n",
              "</div>"
            ],
            "text/plain": [
              "   overall_rating  potential  crossing  ...  medium  overall_gk  preferred_foot_bin\n",
              "0        0.655738   0.672414  0.723404  ...       1    0.095426                   1\n",
              "1        0.459016   0.500000  0.340426  ...       1    0.245162                   1\n",
              "2        0.770492   0.758621  0.808511  ...       1    0.090995                   1\n",
              "3        0.491803   0.413793  0.765957  ...       1    0.093842                   1\n",
              "4        0.524590   0.500000  0.606383  ...       1    0.271842                   1\n",
              "\n",
              "[5 rows x 33 columns]"
            ]
          },
          "metadata": {
            "tags": []
          },
          "execution_count": 6
        }
      ]
    },
    {
      "cell_type": "code",
      "metadata": {
        "id": "n3gFyyTzcPmH",
        "colab_type": "code",
        "colab": {}
      },
      "source": [
        "#Creamos la variable objetivo aparte\n",
        "foot = players['preferred_foot_bin'].values"
      ],
      "execution_count": 0,
      "outputs": []
    },
    {
      "cell_type": "code",
      "metadata": {
        "id": "6dHgmCIpdBrQ",
        "colab_type": "code",
        "colab": {}
      },
      "source": [
        "training_indices, validation_indices = training_indices, testing_indices = train_test_split(players.index,\n",
        "                                                                                            stratify = foot,\n",
        "                                                                                            train_size=0.75, test_size=0.25)"
      ],
      "execution_count": 0,
      "outputs": []
    },
    {
      "cell_type": "code",
      "metadata": {
        "id": "za_unZUodKwQ",
        "colab_type": "code",
        "outputId": "55c89a50-37e8-43f8-f85b-c2eeac5247a0",
        "colab": {
          "base_uri": "https://localhost:8080/",
          "height": 34
        }
      },
      "source": [
        "training_indices.size, validation_indices.size"
      ],
      "execution_count": 0,
      "outputs": [
        {
          "output_type": "execute_result",
          "data": {
            "text/plain": [
              "(99687, 33229)"
            ]
          },
          "metadata": {
            "tags": []
          },
          "execution_count": 10
        }
      ]
    },
    {
      "cell_type": "code",
      "metadata": {
        "id": "3rmFGWbrdgiz",
        "colab_type": "code",
        "outputId": "e7fb128f-5a96-4fa3-90e3-16f3c9573d92",
        "colab": {
          "base_uri": "https://localhost:8080/",
          "height": 343,
          "referenced_widgets": [
            "17e01c3b56774e1187a03e35ee6d66f5",
            "41d9c99e83834df5ab073095f0034ee3",
            "cc84949d7b0f431cbd505e02f2dbbcee",
            "49d3985b024f45f2b520e9a273681654",
            "99f3528b67144d199c4172ee9ab0c2cf",
            "34891edc098942ae97a367404fb8faba",
            "7936cf5c463a41abb3a1952106c663a1",
            "71055ca032664f00922941ba34990562"
          ]
        }
      },
      "source": [
        "tpot = TPOTClassifier(verbosity=2, max_time_mins=10,max_eval_time_mins=0.04,\n",
        "                      population_size = 20)\n",
        "tpot.fit(players.drop('preferred_foot_bin',axis=1).loc[training_indices].values,\n",
        "         players.loc[training_indices,'preferred_foot_bin'].values)"
      ],
      "execution_count": 0,
      "outputs": [
        {
          "output_type": "display_data",
          "data": {
            "application/vnd.jupyter.widget-view+json": {
              "model_id": "17e01c3b56774e1187a03e35ee6d66f5",
              "version_minor": 0,
              "version_major": 2
            },
            "text/plain": [
              "HBox(children=(FloatProgress(value=0.0, description='Optimization Progress', max=20.0, style=ProgressStyle(des…"
            ]
          },
          "metadata": {
            "tags": []
          }
        },
        {
          "output_type": "stream",
          "text": [
            "Generation 1 - Current best internal CV score: 0.7558157036071993\n",
            "Generation 2 - Current best internal CV score: 0.7558157036071993\n",
            "\n",
            "10.01 minutes have elapsed. TPOT will close down.\n",
            "TPOT closed during evaluation in one generation.\n",
            "WARNING: TPOT may not provide a good pipeline if TPOT is stopped/interrupted in a early generation.\n",
            "\n",
            "\n",
            "TPOT closed prematurely. Will use the current best pipeline.\n",
            "\n",
            "Best pipeline: DecisionTreeClassifier(input_matrix, criterion=entropy, max_depth=1, min_samples_leaf=13, min_samples_split=2)\n"
          ],
          "name": "stdout"
        },
        {
          "output_type": "execute_result",
          "data": {
            "text/plain": [
              "TPOTClassifier(config_dict=None, crossover_rate=0.1, cv=5,\n",
              "               disable_update_check=False, early_stop=None, generations=100,\n",
              "               max_eval_time_mins=0.04, max_time_mins=10, memory=None,\n",
              "               mutation_rate=0.9, n_jobs=1, offspring_size=None,\n",
              "               periodic_checkpoint_folder=None, population_size=20,\n",
              "               random_state=None, scoring=None, subsample=1.0, template=None,\n",
              "               use_dask=False, verbosity=2, warm_start=False)"
            ]
          },
          "metadata": {
            "tags": []
          },
          "execution_count": 47
        }
      ]
    },
    {
      "cell_type": "code",
      "metadata": {
        "id": "WHhXvrtYe3iK",
        "colab_type": "code",
        "outputId": "56d24c4a-2c3b-4af2-8cae-0d8cc3cd2367",
        "colab": {
          "base_uri": "https://localhost:8080/",
          "height": 34
        }
      },
      "source": [
        "tpot.score(players.drop('preferred_foot_bin',axis=1).loc[validation_indices].values,\n",
        "           players.loc[validation_indices, 'preferred_foot_bin'].values)"
      ],
      "execution_count": 0,
      "outputs": [
        {
          "output_type": "execute_result",
          "data": {
            "text/plain": [
              "0.7558157031508622"
            ]
          },
          "metadata": {
            "tags": []
          },
          "execution_count": 48
        }
      ]
    },
    {
      "cell_type": "markdown",
      "metadata": {
        "id": "1LDrACzeFwTM",
        "colab_type": "text"
      },
      "source": [
        "Dejando que el algoritmo corra 5 generaciones"
      ]
    },
    {
      "cell_type": "code",
      "metadata": {
        "id": "YH8QqzsDfi_a",
        "colab_type": "code",
        "outputId": "0574e01b-29c0-4956-a1ac-0b04939dee31",
        "colab": {
          "base_uri": "https://localhost:8080/",
          "height": 66,
          "referenced_widgets": [
            "b9e974370d9343b8b08e793cd458da98",
            "5d83feeb51504226ad033c927c8cec49",
            "a3856c6df8574a54966d22c64752f47c",
            "1e9d943b8df6428ab64eadbcce4bc0ef",
            "64a32514f88e4cc686e3df629063212f",
            "77f3ecf84a934557b329033fbca60639",
            "87240eebe2fc410db3c7a364ea2efdfe",
            "3fd3095b677448c4a1036479a252e04e"
          ]
        }
      },
      "source": [
        "tpot = TPOTClassifier(generations = 5, verbosity = 2)\n",
        "tpot.fit(players.drop('preferred_foot_bin',axis=1).loc[training_indices].values,\n",
        "         players.loc[training_indices,'preferred_foot_bin'].values)"
      ],
      "execution_count": 0,
      "outputs": [
        {
          "output_type": "display_data",
          "data": {
            "application/vnd.jupyter.widget-view+json": {
              "model_id": "b9e974370d9343b8b08e793cd458da98",
              "version_minor": 0,
              "version_major": 2
            },
            "text/plain": [
              "HBox(children=(FloatProgress(value=0.0, description='Optimization Progress', max=600.0, style=ProgressStyle(de…"
            ]
          },
          "metadata": {
            "tags": []
          }
        },
        {
          "output_type": "stream",
          "text": [
            "\rGeneration 1 - Current best internal CV score: 0.9459609164192717\n"
          ],
          "name": "stdout"
        }
      ]
    },
    {
      "cell_type": "code",
      "metadata": {
        "id": "SiNzxHsYfjko",
        "colab_type": "code",
        "outputId": "b172e122-03d8-415d-bacc-a77a7d77b426",
        "colab": {
          "base_uri": "https://localhost:8080/",
          "height": 442,
          "referenced_widgets": [
            "a9ad186782c048f5b42ada2c89d2d939",
            "ca03d997be3b47ae9e3e2f2a5a553661",
            "3297dd2406824ccb821b96b38dd8710e",
            "b70fcda8e7a240d3adceb7d4125bdda4",
            "1af5318359064836a04e2429ae6cadf7",
            "dd04c7f811934b98a3f0919c72408f87",
            "e1f707c6d5e249c68e388ef9c0473b70",
            "4d63d9ed1b204035ab2e286826b29400"
          ]
        }
      },
      "source": [
        "tpot = TPOTClassifier(verbosity=2, max_time_mins=60,max_eval_time_mins=0.1,\n",
        "                      population_size = 40)\n",
        "tpot.fit(players.drop('preferred_foot_bin',axis=1).loc[training_indices].values,\n",
        "         players.loc[training_indices,'preferred_foot_bin'].values)"
      ],
      "execution_count": 0,
      "outputs": [
        {
          "output_type": "display_data",
          "data": {
            "application/vnd.jupyter.widget-view+json": {
              "model_id": "a9ad186782c048f5b42ada2c89d2d939",
              "version_minor": 0,
              "version_major": 2
            },
            "text/plain": [
              "HBox(children=(FloatProgress(value=0.0, description='Optimization Progress', max=40.0, style=ProgressStyle(des…"
            ]
          },
          "metadata": {
            "tags": []
          }
        },
        {
          "output_type": "stream",
          "text": [
            "Generation 1 - Current best internal CV score: 0.7627574326275929\n",
            "Generation 2 - Current best internal CV score: 0.7627574326275929\n",
            "Generation 3 - Current best internal CV score: 0.7627574326275929\n",
            "Generation 4 - Current best internal CV score: 0.7627574326275929\n",
            "Generation 5 - Current best internal CV score: 0.7647035221837544\n",
            "Generation 6 - Current best internal CV score: 0.7647035221837544\n",
            "Generation 7 - Current best internal CV score: 0.7647035221837544\n",
            "Generation 8 - Current best internal CV score: 0.7818572449449087\n",
            "Generation 9 - Current best internal CV score: 0.7818572449449087\n",
            "\n",
            "61.20 minutes have elapsed. TPOT will close down.\n",
            "TPOT closed during evaluation in one generation.\n",
            "WARNING: TPOT may not provide a good pipeline if TPOT is stopped/interrupted in a early generation.\n",
            "\n",
            "\n",
            "TPOT closed prematurely. Will use the current best pipeline.\n",
            "\n",
            "Best pipeline: DecisionTreeClassifier(input_matrix, criterion=entropy, max_depth=10, min_samples_leaf=16, min_samples_split=2)\n"
          ],
          "name": "stdout"
        },
        {
          "output_type": "execute_result",
          "data": {
            "text/plain": [
              "TPOTClassifier(config_dict=None, crossover_rate=0.1, cv=5,\n",
              "               disable_update_check=False, early_stop=None, generations=100,\n",
              "               max_eval_time_mins=0.1, max_time_mins=60, memory=None,\n",
              "               mutation_rate=0.9, n_jobs=1, offspring_size=None,\n",
              "               periodic_checkpoint_folder=None, population_size=40,\n",
              "               random_state=None, scoring=None, subsample=1.0, template=None,\n",
              "               use_dask=False, verbosity=2, warm_start=False)"
            ]
          },
          "metadata": {
            "tags": []
          },
          "execution_count": 9
        }
      ]
    },
    {
      "cell_type": "code",
      "metadata": {
        "id": "l9YPSdXiVGsw",
        "colab_type": "code",
        "colab": {}
      },
      "source": [
        ""
      ],
      "execution_count": 0,
      "outputs": []
    }
  ]
}